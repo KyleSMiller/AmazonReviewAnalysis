{
 "cells": [
  {
   "cell_type": "code",
   "execution_count": 1,
   "source": [
    "import pandas as pd\n",
    "\n",
    "\n",
    "data = pd.read_pickle('./reviews_processed.pkl')\n"
   ],
   "outputs": [],
   "metadata": {}
  },
  {
   "cell_type": "code",
   "execution_count": 3,
   "source": [
    "dataTransposed = data.transpose()\n",
    "\n",
    "dataTransposed.head()"
   ],
   "outputs": [
    {
     "output_type": "execute_result",
     "data": {
      "text/plain": [
       "           count                                               name  price  \\\n",
       "B079YF1K1B   120  PhosphatidylSerine 300mg Per Serving, Made in ...  19.95   \n",
       "B08XYDDXDC   120  Nutricost Phosphatidylserine 400mg, 120 Capsul...  17.95   \n",
       "B08LF5G6J1    90  Ultra High Purity Phosphatidylserine from Ital...  19.97   \n",
       "B0013OXFTU   120  NOW Supplemnets, Phosphatidyl Serine 100 mg wi...  31.95   \n",
       "B0013OXA90    60  Jarrow Formulas PS 100-60 Softgels - 100 mg Ph...  21.57   \n",
       "\n",
       "           pricePer rating                                            reviews  \\\n",
       "B079YF1K1B     0.17   4.5   [{'user': 'Beth and Dan Richard', 'rating': 1....   \n",
       "B08XYDDXDC     0.15   4.6   [{'user': 'Barbara Greenan', 'rating': 1.0, 't...   \n",
       "B08LF5G6J1     0.22   4.6   [{'user': 'Michael K', 'rating': 5.0, 'text': ...   \n",
       "B0013OXFTU     0.27   4.6   [{'user': 'dSavannah', 'rating': 5.0, 'text': ...   \n",
       "B0013OXA90     0.36   4.6   [{'user': 'kswen', 'rating': 5.0, 'text': 'I'm...   \n",
       "\n",
       "                                                          url  \\\n",
       "B079YF1K1B  /PhosphatidylSerine-Phosphatidyl-Double-Wood-S...   \n",
       "B08XYDDXDC  /Nutricost-Phosphatidylserine-400mg-120-Capsul...   \n",
       "B08LF5G6J1  /Ultra-High-Purity-Phosphatidylserine-Italy-St...   \n",
       "B0013OXFTU  /NOW-Phosphatidyl-Serine-100mg-Capsules/dp/B00...   \n",
       "B0013OXA90  /Jarrow-Formulas-Supports-Cognitive-Function/d...   \n",
       "\n",
       "                                             processedReviews  \n",
       "B079YF1K1B  [[work, for, now, food, and, bought, three, di...  \n",
       "B08XYDDXDC           [[to, improve, memory], [good, product]]  \n",
       "B08LF5G6J1  [[partner, and, are, on, our, second, bottle, ...  \n",
       "B0013OXFTU  [[take, and, have, tried, variety, of, supplem...  \n",
       "B0013OXA90  [[so, impressed, with, this, supplement, it, h...  "
      ],
      "text/html": [
       "<div>\n",
       "<style scoped>\n",
       "    .dataframe tbody tr th:only-of-type {\n",
       "        vertical-align: middle;\n",
       "    }\n",
       "\n",
       "    .dataframe tbody tr th {\n",
       "        vertical-align: top;\n",
       "    }\n",
       "\n",
       "    .dataframe thead th {\n",
       "        text-align: right;\n",
       "    }\n",
       "</style>\n",
       "<table border=\"1\" class=\"dataframe\">\n",
       "  <thead>\n",
       "    <tr style=\"text-align: right;\">\n",
       "      <th></th>\n",
       "      <th>count</th>\n",
       "      <th>name</th>\n",
       "      <th>price</th>\n",
       "      <th>pricePer</th>\n",
       "      <th>rating</th>\n",
       "      <th>reviews</th>\n",
       "      <th>url</th>\n",
       "      <th>processedReviews</th>\n",
       "    </tr>\n",
       "  </thead>\n",
       "  <tbody>\n",
       "    <tr>\n",
       "      <th>B079YF1K1B</th>\n",
       "      <td>120</td>\n",
       "      <td>PhosphatidylSerine 300mg Per Serving, Made in ...</td>\n",
       "      <td>19.95</td>\n",
       "      <td>0.17</td>\n",
       "      <td>4.5</td>\n",
       "      <td>[{'user': 'Beth and Dan Richard', 'rating': 1....</td>\n",
       "      <td>/PhosphatidylSerine-Phosphatidyl-Double-Wood-S...</td>\n",
       "      <td>[[work, for, now, food, and, bought, three, di...</td>\n",
       "    </tr>\n",
       "    <tr>\n",
       "      <th>B08XYDDXDC</th>\n",
       "      <td>120</td>\n",
       "      <td>Nutricost Phosphatidylserine 400mg, 120 Capsul...</td>\n",
       "      <td>17.95</td>\n",
       "      <td>0.15</td>\n",
       "      <td>4.6</td>\n",
       "      <td>[{'user': 'Barbara Greenan', 'rating': 1.0, 't...</td>\n",
       "      <td>/Nutricost-Phosphatidylserine-400mg-120-Capsul...</td>\n",
       "      <td>[[to, improve, memory], [good, product]]</td>\n",
       "    </tr>\n",
       "    <tr>\n",
       "      <th>B08LF5G6J1</th>\n",
       "      <td>90</td>\n",
       "      <td>Ultra High Purity Phosphatidylserine from Ital...</td>\n",
       "      <td>19.97</td>\n",
       "      <td>0.22</td>\n",
       "      <td>4.6</td>\n",
       "      <td>[{'user': 'Michael K', 'rating': 5.0, 'text': ...</td>\n",
       "      <td>/Ultra-High-Purity-Phosphatidylserine-Italy-St...</td>\n",
       "      <td>[[partner, and, are, on, our, second, bottle, ...</td>\n",
       "    </tr>\n",
       "    <tr>\n",
       "      <th>B0013OXFTU</th>\n",
       "      <td>120</td>\n",
       "      <td>NOW Supplemnets, Phosphatidyl Serine 100 mg wi...</td>\n",
       "      <td>31.95</td>\n",
       "      <td>0.27</td>\n",
       "      <td>4.6</td>\n",
       "      <td>[{'user': 'dSavannah', 'rating': 5.0, 'text': ...</td>\n",
       "      <td>/NOW-Phosphatidyl-Serine-100mg-Capsules/dp/B00...</td>\n",
       "      <td>[[take, and, have, tried, variety, of, supplem...</td>\n",
       "    </tr>\n",
       "    <tr>\n",
       "      <th>B0013OXA90</th>\n",
       "      <td>60</td>\n",
       "      <td>Jarrow Formulas PS 100-60 Softgels - 100 mg Ph...</td>\n",
       "      <td>21.57</td>\n",
       "      <td>0.36</td>\n",
       "      <td>4.6</td>\n",
       "      <td>[{'user': 'kswen', 'rating': 5.0, 'text': 'I'm...</td>\n",
       "      <td>/Jarrow-Formulas-Supports-Cognitive-Function/d...</td>\n",
       "      <td>[[so, impressed, with, this, supplement, it, h...</td>\n",
       "    </tr>\n",
       "  </tbody>\n",
       "</table>\n",
       "</div>"
      ]
     },
     "metadata": {},
     "execution_count": 3
    }
   ],
   "metadata": {}
  },
  {
   "cell_type": "code",
   "execution_count": 4,
   "source": [
    "processedReviewsDF = dataTransposed['processedReviews']\n",
    "\n",
    "arr = dataTransposed['processedReviews'].tolist()\n",
    "\n",
    "arr_flat = []\n",
    "for e1 in arr:\n",
    "    if e1:\n",
    "        for e2 in e1:\n",
    "            if e2:\n",
    "                arr_flat.append(e2)\n"
   ],
   "outputs": [],
   "metadata": {}
  },
  {
   "cell_type": "code",
   "execution_count": 5,
   "source": [
    "import gensim\n",
    "\n",
    "\n",
    "dictionary = gensim.corpora.Dictionary(arr_flat)\n",
    "\n",
    "count = 0\n",
    "for k, v in dictionary.iteritems():\n",
    "    print(k, v)\n",
    "    count += 1\n",
    "    if count > 10:\n",
    "        break\n"
   ],
   "outputs": [
    {
     "output_type": "stream",
     "name": "stderr",
     "text": [
      "/Users/CSUser/Documents/NLP/Project/Project/lib/python3.9/site-packages/gensim/similarities/__init__.py:15: UserWarning: The gensim.similarities.levenshtein submodule is disabled, because the optional Levenshtein package <https://pypi.org/project/python-Levenshtein/> is unavailable. Install Levenhstein (e.g. `pip install python-Levenshtein`) to suppress this warning.\n",
      "  warnings.warn(msg)\n"
     ]
    },
    {
     "output_type": "stream",
     "name": "stdout",
     "text": [
      "0 all\n",
      "1 amazon\n",
      "2 and\n",
      "3 are\n",
      "4 at\n",
      "5 be\n",
      "6 been\n",
      "7 below\n",
      "8 between\n",
      "9 blocked\n",
      "10 bottle\n"
     ]
    }
   ],
   "metadata": {}
  },
  {
   "cell_type": "code",
   "execution_count": 7,
   "source": [
    "# Filter Tokens\n",
    "\n",
    "dictionary.filter_extremes(no_below=15, no_above=0.5, keep_n=1000)"
   ],
   "outputs": [],
   "metadata": {}
  },
  {
   "cell_type": "code",
   "execution_count": 8,
   "source": [
    "# Create bag of words\n",
    "\n",
    "bow_corpus = [dictionary.doc2bow(doc) for doc in arr_flat]\n",
    "\n",
    "# Check to see preview of Bag of Words\n",
    "\n",
    "bow_doc_20 = bow_corpus[20]\n",
    "\n",
    "for i in range(len(bow_doc_20)):\n",
    "    print(\"Word {} (\\\"{}\\\") appears {} time.\".format(bow_doc_20[i][0], \n",
    "                                               dictionary[bow_doc_20[i][0]], \n",
    "bow_doc_20[i][1]))"
   ],
   "outputs": [
    {
     "output_type": "stream",
     "name": "stdout",
     "text": [
      "Word 2 (\"and\") appears 5 time.\n",
      "Word 14 (\"have\") appears 1 time.\n",
      "Word 17 (\"lot\") appears 1 time.\n",
      "Word 21 (\"now\") appears 1 time.\n",
      "Word 22 (\"of\") appears 1 time.\n",
      "Word 33 (\"this\") appears 1 time.\n",
      "Word 34 (\"three\") appears 1 time.\n",
      "Word 35 (\"to\") appears 2 time.\n",
      "Word 36 (\"two\") appears 1 time.\n",
      "Word 41 (\"again\") appears 1 time.\n",
      "Word 42 (\"also\") appears 1 time.\n",
      "Word 45 (\"but\") appears 1 time.\n",
      "Word 46 (\"can\") appears 1 time.\n",
      "Word 51 (\"day\") appears 1 time.\n",
      "Word 65 (\"my\") appears 1 time.\n",
      "Word 70 (\"so\") appears 1 time.\n",
      "Word 73 (\"take\") appears 1 time.\n",
      "Word 97 (\"other\") appears 1 time.\n",
      "Word 103 (\"supplement\") appears 1 time.\n",
      "Word 128 (\"good\") appears 1 time.\n",
      "Word 139 (\"noticed\") appears 1 time.\n",
      "Word 146 (\"taking\") appears 2 time.\n",
      "Word 166 (\"when\") appears 1 time.\n",
      "Word 175 (\"went\") appears 1 time.\n",
      "Word 181 (\"big\") appears 1 time.\n",
      "Word 193 (\"medication\") appears 1 time.\n",
      "Word 205 (\"thing\") appears 1 time.\n",
      "Word 268 (\"started\") appears 1 time.\n",
      "Word 369 (\"think\") appears 1 time.\n",
      "Word 402 (\"difference\") appears 1 time.\n",
      "Word 405 (\"child\") appears 1 time.\n",
      "Word 406 (\"clearly\") appears 1 time.\n",
      "Word 407 (\"dream\") appears 1 time.\n",
      "Word 408 (\"kind\") appears 1 time.\n",
      "Word 409 (\"plan\") appears 1 time.\n",
      "Word 410 (\"remember\") appears 1 time.\n",
      "Word 411 (\"start\") appears 1 time.\n"
     ]
    }
   ],
   "metadata": {}
  },
  {
   "cell_type": "code",
   "execution_count": 9,
   "source": [
    "#Create tf-idf model on bow_corpus\n",
    "\n",
    "from gensim import corpora, models\n",
    "\n",
    "tfidf = models.TfidfModel(bow_corpus)\n",
    "corpus_tfidf = tfidf[bow_corpus]\n"
   ],
   "outputs": [],
   "metadata": {}
  },
  {
   "cell_type": "code",
   "execution_count": 10,
   "source": [
    "lda_model = gensim.models.LdaMulticore(bow_corpus, num_topics=10, id2word=dictionary, passes=2, workers=2)"
   ],
   "outputs": [
    {
     "output_type": "stream",
     "name": "stderr",
     "text": [
      "/Users/CSUser/Documents/NLP/Project/Project/lib/python3.9/site-packages/gensim/similarities/__init__.py:15: UserWarning: The gensim.similarities.levenshtein submodule is disabled, because the optional Levenshtein package <https://pypi.org/project/python-Levenshtein/> is unavailable. Install Levenhstein (e.g. `pip install python-Levenshtein`) to suppress this warning.\n",
      "  warnings.warn(msg)\n",
      "/Users/CSUser/Documents/NLP/Project/Project/lib/python3.9/site-packages/gensim/similarities/__init__.py:15: UserWarning: The gensim.similarities.levenshtein submodule is disabled, because the optional Levenshtein package <https://pypi.org/project/python-Levenshtein/> is unavailable. Install Levenhstein (e.g. `pip install python-Levenshtein`) to suppress this warning.\n",
      "  warnings.warn(msg)\n"
     ]
    }
   ],
   "metadata": {}
  },
  {
   "cell_type": "code",
   "execution_count": 11,
   "source": [
    "for idx, topic in lda_model.print_topics(-1):\n",
    "    print('Topic: {} \\nWords: {}'.format(idx, topic))"
   ],
   "outputs": [
    {
     "output_type": "stream",
     "name": "stdout",
     "text": [
      "Topic: 0 \n",
      "Words: 0.069*\"good\" + 0.046*\"product\" + 0.043*\"no\" + 0.041*\"taste\" + 0.036*\"to\" + 0.033*\"very\" + 0.032*\"and\" + 0.031*\"fishy\" + 0.028*\"easy\" + 0.024*\"quality\"\n",
      "Topic: 1 \n",
      "Words: 0.054*\"and\" + 0.038*\"me\" + 0.034*\"my\" + 0.027*\"ha\" + 0.024*\"with\" + 0.022*\"helped\" + 0.021*\"more\" + 0.020*\"to\" + 0.020*\"work\" + 0.019*\"better\"\n",
      "Topic: 2 \n",
      "Words: 0.066*\"and\" + 0.035*\"this\" + 0.031*\"my\" + 0.030*\"it\" + 0.029*\"to\" + 0.029*\"have\" + 0.018*\"product\" + 0.017*\"feel\" + 0.016*\"of\" + 0.016*\"in\"\n",
      "Topic: 3 \n",
      "Words: 0.042*\"and\" + 0.039*\"to\" + 0.035*\"the\" + 0.029*\"it\" + 0.023*\"my\" + 0.022*\"wa\" + 0.020*\"this\" + 0.016*\"of\" + 0.012*\"in\" + 0.012*\"for\"\n",
      "Topic: 4 \n",
      "Words: 0.057*\"the\" + 0.037*\"it\" + 0.031*\"to\" + 0.029*\"and\" + 0.027*\"is\" + 0.023*\"this\" + 0.022*\"of\" + 0.019*\"that\" + 0.016*\"for\" + 0.014*\"product\"\n",
      "Topic: 5 \n",
      "Words: 0.047*\"for\" + 0.039*\"my\" + 0.039*\"and\" + 0.026*\"been\" + 0.026*\"this\" + 0.024*\"the\" + 0.022*\"it\" + 0.020*\"to\" + 0.019*\"have\" + 0.018*\"taking\"\n",
      "Topic: 6 \n",
      "Words: 0.032*\"to\" + 0.027*\"and\" + 0.026*\"the\" + 0.022*\"they\" + 0.022*\"these\" + 0.020*\"are\" + 0.019*\"for\" + 0.018*\"this\" + 0.018*\"it\" + 0.018*\"have\"\n",
      "Topic: 7 \n",
      "Words: 0.039*\"and\" + 0.039*\"it\" + 0.031*\"the\" + 0.027*\"sleep\" + 0.027*\"to\" + 0.019*\"me\" + 0.019*\"night\" + 0.018*\"this\" + 0.017*\"help\" + 0.016*\"my\"\n",
      "Topic: 8 \n",
      "Words: 0.083*\"product\" + 0.057*\"the\" + 0.050*\"this\" + 0.049*\"great\" + 0.023*\"love\" + 0.023*\"and\" + 0.021*\"is\" + 0.019*\"it\" + 0.018*\"best\" + 0.018*\"no\"\n",
      "Topic: 9 \n",
      "Words: 0.041*\"to\" + 0.038*\"and\" + 0.037*\"my\" + 0.027*\"it\" + 0.023*\"for\" + 0.021*\"memory\" + 0.021*\"this\" + 0.020*\"the\" + 0.017*\"in\" + 0.016*\"have\"\n"
     ]
    }
   ],
   "metadata": {}
  },
  {
   "cell_type": "code",
   "execution_count": 12,
   "source": [
    "lda_model_tfidf = gensim.models.LdaMulticore(corpus_tfidf, num_topics=10, id2word=dictionary, passes=2, workers=4)\n",
    "\n",
    "for idx, topic in lda_model_tfidf.print_topics(-1):\n",
    "    print('Topic: {} Word: {}'.format(idx, topic))"
   ],
   "outputs": [
    {
     "output_type": "stream",
     "name": "stderr",
     "text": [
      "/Users/CSUser/Documents/NLP/Project/Project/lib/python3.9/site-packages/gensim/similarities/__init__.py:15: UserWarning: The gensim.similarities.levenshtein submodule is disabled, because the optional Levenshtein package <https://pypi.org/project/python-Levenshtein/> is unavailable. Install Levenhstein (e.g. `pip install python-Levenshtein`) to suppress this warning.\n",
      "  warnings.warn(msg)\n",
      "/Users/CSUser/Documents/NLP/Project/Project/lib/python3.9/site-packages/gensim/similarities/__init__.py:15: UserWarning: The gensim.similarities.levenshtein submodule is disabled, because the optional Levenshtein package <https://pypi.org/project/python-Levenshtein/> is unavailable. Install Levenhstein (e.g. `pip install python-Levenshtein`) to suppress this warning.\n",
      "  warnings.warn(msg)\n",
      "/Users/CSUser/Documents/NLP/Project/Project/lib/python3.9/site-packages/gensim/similarities/__init__.py:15: UserWarning: The gensim.similarities.levenshtein submodule is disabled, because the optional Levenshtein package <https://pypi.org/project/python-Levenshtein/> is unavailable. Install Levenhstein (e.g. `pip install python-Levenshtein`) to suppress this warning.\n",
      "  warnings.warn(msg)\n",
      "/Users/CSUser/Documents/NLP/Project/Project/lib/python3.9/site-packages/gensim/similarities/__init__.py:15: UserWarning: The gensim.similarities.levenshtein submodule is disabled, because the optional Levenshtein package <https://pypi.org/project/python-Levenshtein/> is unavailable. Install Levenhstein (e.g. `pip install python-Levenshtein`) to suppress this warning.\n",
      "  warnings.warn(msg)\n"
     ]
    },
    {
     "output_type": "stream",
     "name": "stdout",
     "text": [
      "Topic: 0 Word: 0.013*\"fish\" + 0.013*\"quality\" + 0.013*\"oil\" + 0.012*\"omega\" + 0.011*\"the\" + 0.010*\"this\" + 0.010*\"it\" + 0.010*\"and\" + 0.010*\"product\" + 0.010*\"to\"\n",
      "Topic: 1 Word: 0.017*\"love\" + 0.012*\"it\" + 0.011*\"this\" + 0.011*\"for\" + 0.010*\"have\" + 0.010*\"my\" + 0.009*\"product\" + 0.009*\"the\" + 0.009*\"and\" + 0.009*\"been\"\n",
      "Topic: 2 Word: 0.013*\"work\" + 0.013*\"it\" + 0.012*\"the\" + 0.011*\"to\" + 0.010*\"dry\" + 0.009*\"and\" + 0.008*\"this\" + 0.008*\"take\" + 0.008*\"me\" + 0.008*\"my\"\n",
      "Topic: 3 Word: 0.017*\"taste\" + 0.013*\"no\" + 0.012*\"fish\" + 0.012*\"very\" + 0.011*\"the\" + 0.011*\"lemon\" + 0.011*\"easy\" + 0.010*\"with\" + 0.010*\"to\" + 0.010*\"swallow\"\n",
      "Topic: 4 Word: 0.021*\"burp\" + 0.015*\"fish\" + 0.013*\"no\" + 0.011*\"it\" + 0.011*\"the\" + 0.010*\"oil\" + 0.009*\"and\" + 0.009*\"this\" + 0.009*\"is\" + 0.008*\"fishy\"\n",
      "Topic: 5 Word: 0.031*\"excellent\" + 0.022*\"eye\" + 0.015*\"product\" + 0.012*\"for\" + 0.011*\"the\" + 0.011*\"my\" + 0.011*\"it\" + 0.011*\"this\" + 0.010*\"great\" + 0.010*\"like\"\n",
      "Topic: 6 Word: 0.011*\"the\" + 0.010*\"to\" + 0.010*\"nordic\" + 0.010*\"and\" + 0.010*\"aftertaste\" + 0.009*\"it\" + 0.009*\"my\" + 0.008*\"no\" + 0.008*\"is\" + 0.007*\"have\"\n",
      "Topic: 7 Word: 0.047*\"good\" + 0.015*\"product\" + 0.013*\"very\" + 0.012*\"the\" + 0.011*\"cholesterol\" + 0.010*\"quality\" + 0.010*\"it\" + 0.009*\"is\" + 0.009*\"fish\" + 0.009*\"for\"\n",
      "Topic: 8 Word: 0.018*\"good\" + 0.013*\"omega\" + 0.011*\"it\" + 0.011*\"the\" + 0.011*\"so\" + 0.011*\"expected\" + 0.010*\"product\" + 0.009*\"best\" + 0.009*\"this\" + 0.009*\"and\"\n",
      "Topic: 9 Word: 0.089*\"great\" + 0.037*\"product\" + 0.023*\"easy\" + 0.022*\"swallow\" + 0.017*\"no\" + 0.014*\"taste\" + 0.013*\"to\" + 0.010*\"and\" + 0.010*\"price\" + 0.010*\"quality\"\n"
     ]
    }
   ],
   "metadata": {}
  },
  {
   "cell_type": "code",
   "execution_count": 15,
   "source": [
    "for index, score in sorted(lda_model[bow_corpus[4]], key=lambda tup: -1*tup[1]):\n",
    "    print(\"\\nScore: {}\\t \\nTopic: {}\".format(score, lda_model.print_topic(index, 10)))\n"
   ],
   "outputs": [
    {
     "output_type": "stream",
     "name": "stdout",
     "text": [
      "\n",
      "Score: 0.6364889740943909\t \n",
      "Topic: 0.041*\"to\" + 0.038*\"and\" + 0.037*\"my\" + 0.027*\"it\" + 0.023*\"for\" + 0.021*\"memory\" + 0.021*\"this\" + 0.020*\"the\" + 0.017*\"in\" + 0.016*\"have\"\n",
      "\n",
      "Score: 0.3252415060997009\t \n",
      "Topic: 0.042*\"and\" + 0.039*\"to\" + 0.035*\"the\" + 0.029*\"it\" + 0.023*\"my\" + 0.022*\"wa\" + 0.020*\"this\" + 0.016*\"of\" + 0.012*\"in\" + 0.012*\"for\"\n",
      "\n",
      "Score: 0.029832422733306885\t \n",
      "Topic: 0.054*\"and\" + 0.038*\"me\" + 0.034*\"my\" + 0.027*\"ha\" + 0.024*\"with\" + 0.022*\"helped\" + 0.021*\"more\" + 0.020*\"to\" + 0.020*\"work\" + 0.019*\"better\"\n"
     ]
    }
   ],
   "metadata": {}
  }
 ],
 "metadata": {
  "orig_nbformat": 4,
  "language_info": {
   "name": "python",
   "version": "3.9.1",
   "mimetype": "text/x-python",
   "codemirror_mode": {
    "name": "ipython",
    "version": 3
   },
   "pygments_lexer": "ipython3",
   "nbconvert_exporter": "python",
   "file_extension": ".py"
  },
  "kernelspec": {
   "name": "python3",
   "display_name": "Python 3.9.1 64-bit ('Project': venv)"
  },
  "interpreter": {
   "hash": "14188f87d17fa20afa4e8bf2718fff38f7226ed697d0c8b136b4660881948bb5"
  }
 },
 "nbformat": 4,
 "nbformat_minor": 2
}