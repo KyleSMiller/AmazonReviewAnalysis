{
 "cells": [
  {
   "cell_type": "code",
   "execution_count": 16,
   "source": [
    "import pandas as pd\n",
    "\n",
    "\n",
    "data = pd.read_pickle('./reviews_processed_fixed.pkl')\n"
   ],
   "outputs": [],
   "metadata": {}
  },
  {
   "cell_type": "code",
   "execution_count": 17,
   "source": [
    "dataTransposed = data.transpose()\n",
    "\n",
    "dataTransposed.head()"
   ],
   "outputs": [
    {
     "output_type": "execute_result",
     "data": {
      "text/plain": [
       "           count                                               name  price  \\\n",
       "B079YF1K1B   120  PhosphatidylSerine 300mg Per Serving, Made in ...  19.95   \n",
       "B08XYDDXDC   120  Nutricost Phosphatidylserine 400mg, 120 Capsul...  17.95   \n",
       "B08LF5G6J1    90  Ultra High Purity Phosphatidylserine from Ital...  19.97   \n",
       "B0013OXFTU   120  NOW Supplemnets, Phosphatidyl Serine 100 mg wi...  31.95   \n",
       "B0013OXA90    60  Jarrow Formulas PS 100-60 Softgels - 100 mg Ph...  21.57   \n",
       "\n",
       "           pricePer rating                                            reviews  \\\n",
       "B079YF1K1B     0.17   4.5   [{'user': 'Beth and Dan Richard', 'rating': 1....   \n",
       "B08XYDDXDC     0.15   4.6   [{'user': 'Barbara Greenan', 'rating': 1.0, 't...   \n",
       "B08LF5G6J1     0.22   4.6   [{'user': 'Michael K', 'rating': 5.0, 'text': ...   \n",
       "B0013OXFTU     0.27   4.6   [{'user': 'dSavannah', 'rating': 5.0, 'text': ...   \n",
       "B0013OXA90     0.36   4.6   [{'user': 'kswen', 'rating': 5.0, 'text': 'I'm...   \n",
       "\n",
       "                                                          url  \\\n",
       "B079YF1K1B  /PhosphatidylSerine-Phosphatidyl-Double-Wood-S...   \n",
       "B08XYDDXDC  /Nutricost-Phosphatidylserine-400mg-120-Capsul...   \n",
       "B08LF5G6J1  /Ultra-High-Purity-Phosphatidylserine-Italy-St...   \n",
       "B0013OXFTU  /NOW-Phosphatidyl-Serine-100mg-Capsules/dp/B00...   \n",
       "B0013OXA90  /Jarrow-Formulas-Supports-Cognitive-Function/d...   \n",
       "\n",
       "                                             processedReviews  \n",
       "B079YF1K1B  [[work, food, bought, three, different, bottle...  \n",
       "B08XYDDXDC               [[improve, memory], [good, product]]  \n",
       "B08LF5G6J1  [[partner, second, bottle, impressed, change, ...  \n",
       "B0013OXFTU  [[take, tried, variety, supplement, medication...  \n",
       "B0013OXA90  [[impressed, supplement, changed, quality, sle...  "
      ],
      "text/html": [
       "<div>\n",
       "<style scoped>\n",
       "    .dataframe tbody tr th:only-of-type {\n",
       "        vertical-align: middle;\n",
       "    }\n",
       "\n",
       "    .dataframe tbody tr th {\n",
       "        vertical-align: top;\n",
       "    }\n",
       "\n",
       "    .dataframe thead th {\n",
       "        text-align: right;\n",
       "    }\n",
       "</style>\n",
       "<table border=\"1\" class=\"dataframe\">\n",
       "  <thead>\n",
       "    <tr style=\"text-align: right;\">\n",
       "      <th></th>\n",
       "      <th>count</th>\n",
       "      <th>name</th>\n",
       "      <th>price</th>\n",
       "      <th>pricePer</th>\n",
       "      <th>rating</th>\n",
       "      <th>reviews</th>\n",
       "      <th>url</th>\n",
       "      <th>processedReviews</th>\n",
       "    </tr>\n",
       "  </thead>\n",
       "  <tbody>\n",
       "    <tr>\n",
       "      <th>B079YF1K1B</th>\n",
       "      <td>120</td>\n",
       "      <td>PhosphatidylSerine 300mg Per Serving, Made in ...</td>\n",
       "      <td>19.95</td>\n",
       "      <td>0.17</td>\n",
       "      <td>4.5</td>\n",
       "      <td>[{'user': 'Beth and Dan Richard', 'rating': 1....</td>\n",
       "      <td>/PhosphatidylSerine-Phosphatidyl-Double-Wood-S...</td>\n",
       "      <td>[[work, food, bought, three, different, bottle...</td>\n",
       "    </tr>\n",
       "    <tr>\n",
       "      <th>B08XYDDXDC</th>\n",
       "      <td>120</td>\n",
       "      <td>Nutricost Phosphatidylserine 400mg, 120 Capsul...</td>\n",
       "      <td>17.95</td>\n",
       "      <td>0.15</td>\n",
       "      <td>4.6</td>\n",
       "      <td>[{'user': 'Barbara Greenan', 'rating': 1.0, 't...</td>\n",
       "      <td>/Nutricost-Phosphatidylserine-400mg-120-Capsul...</td>\n",
       "      <td>[[improve, memory], [good, product]]</td>\n",
       "    </tr>\n",
       "    <tr>\n",
       "      <th>B08LF5G6J1</th>\n",
       "      <td>90</td>\n",
       "      <td>Ultra High Purity Phosphatidylserine from Ital...</td>\n",
       "      <td>19.97</td>\n",
       "      <td>0.22</td>\n",
       "      <td>4.6</td>\n",
       "      <td>[{'user': 'Michael K', 'rating': 5.0, 'text': ...</td>\n",
       "      <td>/Ultra-High-Purity-Phosphatidylserine-Italy-St...</td>\n",
       "      <td>[[partner, second, bottle, impressed, change, ...</td>\n",
       "    </tr>\n",
       "    <tr>\n",
       "      <th>B0013OXFTU</th>\n",
       "      <td>120</td>\n",
       "      <td>NOW Supplemnets, Phosphatidyl Serine 100 mg wi...</td>\n",
       "      <td>31.95</td>\n",
       "      <td>0.27</td>\n",
       "      <td>4.6</td>\n",
       "      <td>[{'user': 'dSavannah', 'rating': 5.0, 'text': ...</td>\n",
       "      <td>/NOW-Phosphatidyl-Serine-100mg-Capsules/dp/B00...</td>\n",
       "      <td>[[take, tried, variety, supplement, medication...</td>\n",
       "    </tr>\n",
       "    <tr>\n",
       "      <th>B0013OXA90</th>\n",
       "      <td>60</td>\n",
       "      <td>Jarrow Formulas PS 100-60 Softgels - 100 mg Ph...</td>\n",
       "      <td>21.57</td>\n",
       "      <td>0.36</td>\n",
       "      <td>4.6</td>\n",
       "      <td>[{'user': 'kswen', 'rating': 5.0, 'text': 'I'm...</td>\n",
       "      <td>/Jarrow-Formulas-Supports-Cognitive-Function/d...</td>\n",
       "      <td>[[impressed, supplement, changed, quality, sle...</td>\n",
       "    </tr>\n",
       "  </tbody>\n",
       "</table>\n",
       "</div>"
      ]
     },
     "metadata": {},
     "execution_count": 17
    }
   ],
   "metadata": {}
  },
  {
   "cell_type": "code",
   "execution_count": 18,
   "source": [
    "processedReviewsDF = dataTransposed['processedReviews']\n",
    "\n",
    "arr = dataTransposed['processedReviews'].tolist()\n",
    "\n",
    "arr_flat = []\n",
    "for e1 in arr:\n",
    "    if e1:\n",
    "        for e2 in e1:\n",
    "            if e2:\n",
    "                arr_flat.append(e2)\n"
   ],
   "outputs": [],
   "metadata": {}
  },
  {
   "cell_type": "code",
   "execution_count": 19,
   "source": [
    "import gensim\n",
    "\n",
    "\n",
    "dictionary = gensim.corpora.Dictionary(arr_flat)\n",
    "\n",
    "count = 0\n",
    "for k, v in dictionary.iteritems():\n",
    "    print(k, v)\n",
    "    count += 1\n",
    "    if count > 10:\n",
    "        break\n"
   ],
   "outputs": [
    {
     "output_type": "stream",
     "name": "stdout",
     "text": [
      "0 amazon\n",
      "1 blocked\n",
      "2 bottle\n",
      "3 bought\n",
      "4 brand\n",
      "5 corrected\n",
      "6 dan\n",
      "7 different\n",
      "8 directly\n",
      "9 eurofins\n",
      "10 food\n"
     ]
    }
   ],
   "metadata": {}
  },
  {
   "cell_type": "code",
   "execution_count": 20,
   "source": [
    "# Filter Tokens\n",
    "\n",
    "dictionary.filter_extremes(no_below=15, no_above=0.5, keep_n=1000)"
   ],
   "outputs": [],
   "metadata": {}
  },
  {
   "cell_type": "code",
   "execution_count": 21,
   "source": [
    "# Create bag of words\n",
    "\n",
    "bow_corpus = [dictionary.doc2bow(doc) for doc in arr_flat]\n",
    "\n",
    "# Check to see preview of Bag of Words\n",
    "\n",
    "bow_doc_20 = bow_corpus[20]\n",
    "\n",
    "for i in range(len(bow_doc_20)):\n",
    "    print(\"Word {} (\\\"{}\\\") appears {} time.\".format(bow_doc_20[i][0], \n",
    "                                               dictionary[bow_doc_20[i][0]], \n",
    "bow_doc_20[i][1]))"
   ],
   "outputs": [
    {
     "output_type": "stream",
     "name": "stdout",
     "text": [
      "Word 7 (\"lot\") appears 1 time.\n",
      "Word 18 (\"three\") appears 1 time.\n",
      "Word 19 (\"two\") appears 1 time.\n",
      "Word 22 (\"also\") appears 1 time.\n",
      "Word 29 (\"day\") appears 1 time.\n",
      "Word 42 (\"take\") appears 1 time.\n",
      "Word 63 (\"supplement\") appears 1 time.\n",
      "Word 86 (\"good\") appears 1 time.\n",
      "Word 95 (\"noticed\") appears 1 time.\n",
      "Word 100 (\"taking\") appears 2 time.\n",
      "Word 126 (\"went\") appears 1 time.\n",
      "Word 130 (\"big\") appears 1 time.\n",
      "Word 141 (\"medication\") appears 1 time.\n",
      "Word 151 (\"thing\") appears 1 time.\n",
      "Word 207 (\"started\") appears 1 time.\n",
      "Word 292 (\"think\") appears 1 time.\n",
      "Word 318 (\"difference\") appears 1 time.\n",
      "Word 321 (\"child\") appears 1 time.\n",
      "Word 322 (\"clearly\") appears 1 time.\n",
      "Word 323 (\"dream\") appears 1 time.\n",
      "Word 324 (\"kind\") appears 1 time.\n",
      "Word 325 (\"plan\") appears 1 time.\n",
      "Word 326 (\"remember\") appears 1 time.\n",
      "Word 327 (\"start\") appears 1 time.\n"
     ]
    }
   ],
   "metadata": {}
  },
  {
   "cell_type": "code",
   "execution_count": 22,
   "source": [
    "#Create tf-idf model on bow_corpus\n",
    "\n",
    "from gensim import corpora, models\n",
    "\n",
    "tfidf = models.TfidfModel(bow_corpus)\n",
    "corpus_tfidf = tfidf[bow_corpus]\n"
   ],
   "outputs": [],
   "metadata": {}
  },
  {
   "cell_type": "code",
   "execution_count": 23,
   "source": [
    "lda_model = gensim.models.LdaMulticore(bow_corpus, num_topics=10, id2word=dictionary, passes=2, workers=2)"
   ],
   "outputs": [
    {
     "output_type": "stream",
     "name": "stderr",
     "text": [
      "/Users/CSUser/Documents/NLP/Project/Project/lib/python3.9/site-packages/gensim/similarities/__init__.py:15: UserWarning: The gensim.similarities.levenshtein submodule is disabled, because the optional Levenshtein package <https://pypi.org/project/python-Levenshtein/> is unavailable. Install Levenhstein (e.g. `pip install python-Levenshtein`) to suppress this warning.\n",
      "  warnings.warn(msg)\n",
      "/Users/CSUser/Documents/NLP/Project/Project/lib/python3.9/site-packages/gensim/similarities/__init__.py:15: UserWarning: The gensim.similarities.levenshtein submodule is disabled, because the optional Levenshtein package <https://pypi.org/project/python-Levenshtein/> is unavailable. Install Levenhstein (e.g. `pip install python-Levenshtein`) to suppress this warning.\n",
      "  warnings.warn(msg)\n"
     ]
    }
   ],
   "metadata": {}
  },
  {
   "cell_type": "code",
   "execution_count": 24,
   "source": [
    "for idx, topic in lda_model.print_topics(-1):\n",
    "    print('Topic: {} \\nWords: {}'.format(idx, topic))"
   ],
   "outputs": [
    {
     "output_type": "stream",
     "name": "stdout",
     "text": [
      "Topic: 0 \n",
      "Words: 0.029*\"day\" + 0.024*\"product\" + 0.015*\"work\" + 0.015*\"take\" + 0.015*\"better\" + 0.014*\"help\" + 0.013*\"focus\" + 0.013*\"brain\" + 0.012*\"year\" + 0.011*\"supplement\"\n",
      "Topic: 1 \n",
      "Words: 0.036*\"fish\" + 0.033*\"omega\" + 0.029*\"oil\" + 0.028*\"product\" + 0.027*\"good\" + 0.023*\"brand\" + 0.022*\"quality\" + 0.019*\"fishy\" + 0.019*\"great\" + 0.018*\"bottle\"\n",
      "Topic: 2 \n",
      "Words: 0.084*\"product\" + 0.074*\"great\" + 0.026*\"memory\" + 0.021*\"work\" + 0.017*\"focus\" + 0.017*\"taking\" + 0.015*\"help\" + 0.015*\"feel\" + 0.014*\"using\" + 0.013*\"supplement\"\n",
      "Topic: 3 \n",
      "Words: 0.051*\"sleep\" + 0.033*\"night\" + 0.025*\"eye\" + 0.021*\"easy\" + 0.021*\"taste\" + 0.018*\"swallow\" + 0.018*\"taking\" + 0.017*\"better\" + 0.016*\"lemon\" + 0.016*\"help\"\n",
      "Topic: 4 \n",
      "Words: 0.035*\"fish\" + 0.031*\"product\" + 0.029*\"help\" + 0.025*\"oil\" + 0.024*\"nordic\" + 0.018*\"burp\" + 0.015*\"recommend\" + 0.013*\"taste\" + 0.012*\"tried\" + 0.012*\"day\"\n",
      "Topic: 5 \n",
      "Words: 0.038*\"product\" + 0.025*\"good\" + 0.024*\"taking\" + 0.018*\"cortisol\" + 0.018*\"feel\" + 0.016*\"level\" + 0.016*\"supplement\" + 0.014*\"high\" + 0.012*\"week\" + 0.011*\"stress\"\n",
      "Topic: 6 \n",
      "Words: 0.036*\"product\" + 0.025*\"feel\" + 0.022*\"day\" + 0.020*\"far\" + 0.020*\"time\" + 0.016*\"love\" + 0.016*\"great\" + 0.013*\"taking\" + 0.012*\"pill\" + 0.012*\"good\"\n",
      "Topic: 7 \n",
      "Words: 0.049*\"like\" + 0.028*\"taste\" + 0.021*\"take\" + 0.020*\"product\" + 0.015*\"mg\" + 0.014*\"really\" + 0.014*\"bad\" + 0.012*\"bottle\" + 0.012*\"smell\" + 0.011*\"pill\"\n",
      "Topic: 8 \n",
      "Words: 0.040*\"product\" + 0.035*\"work\" + 0.022*\"take\" + 0.017*\"day\" + 0.016*\"get\" + 0.013*\"well\" + 0.012*\"really\" + 0.012*\"focus\" + 0.012*\"say\" + 0.011*\"think\"\n",
      "Topic: 9 \n",
      "Words: 0.024*\"brain\" + 0.022*\"product\" + 0.020*\"help\" + 0.019*\"supplement\" + 0.019*\"taking\" + 0.018*\"effect\" + 0.015*\"focus\" + 0.011*\"clarity\" + 0.011*\"mental\" + 0.011*\"side\"\n"
     ]
    }
   ],
   "metadata": {}
  },
  {
   "cell_type": "code",
   "execution_count": 25,
   "source": [
    "lda_model_tfidf = gensim.models.LdaMulticore(corpus_tfidf, num_topics=10, id2word=dictionary, passes=2, workers=4)\n",
    "\n",
    "for idx, topic in lda_model_tfidf.print_topics(-1):\n",
    "    print('Topic: {} Word: {}'.format(idx, topic))"
   ],
   "outputs": [
    {
     "output_type": "stream",
     "name": "stderr",
     "text": [
      "/Users/CSUser/Documents/NLP/Project/Project/lib/python3.9/site-packages/gensim/similarities/__init__.py:15: UserWarning: The gensim.similarities.levenshtein submodule is disabled, because the optional Levenshtein package <https://pypi.org/project/python-Levenshtein/> is unavailable. Install Levenhstein (e.g. `pip install python-Levenshtein`) to suppress this warning.\n",
      "  warnings.warn(msg)\n",
      "/Users/CSUser/Documents/NLP/Project/Project/lib/python3.9/site-packages/gensim/similarities/__init__.py:15: UserWarning: The gensim.similarities.levenshtein submodule is disabled, because the optional Levenshtein package <https://pypi.org/project/python-Levenshtein/> is unavailable. Install Levenhstein (e.g. `pip install python-Levenshtein`) to suppress this warning.\n",
      "  warnings.warn(msg)\n",
      "/Users/CSUser/Documents/NLP/Project/Project/lib/python3.9/site-packages/gensim/similarities/__init__.py:15: UserWarning: The gensim.similarities.levenshtein submodule is disabled, because the optional Levenshtein package <https://pypi.org/project/python-Levenshtein/> is unavailable. Install Levenhstein (e.g. `pip install python-Levenshtein`) to suppress this warning.\n",
      "  warnings.warn(msg)\n",
      "/Users/CSUser/Documents/NLP/Project/Project/lib/python3.9/site-packages/gensim/similarities/__init__.py:15: UserWarning: The gensim.similarities.levenshtein submodule is disabled, because the optional Levenshtein package <https://pypi.org/project/python-Levenshtein/> is unavailable. Install Levenhstein (e.g. `pip install python-Levenshtein`) to suppress this warning.\n",
      "  warnings.warn(msg)\n"
     ]
    },
    {
     "output_type": "stream",
     "name": "stdout",
     "text": [
      "Topic: 0 Word: 0.075*\"good\" + 0.023*\"product\" + 0.014*\"stuff\" + 0.014*\"best\" + 0.013*\"far\" + 0.011*\"eye\" + 0.011*\"great\" + 0.010*\"price\" + 0.009*\"expected\" + 0.009*\"like\"\n",
      "Topic: 1 Word: 0.080*\"great\" + 0.044*\"product\" + 0.035*\"burp\" + 0.027*\"excellent\" + 0.022*\"work\" + 0.018*\"fish\" + 0.011*\"taste\" + 0.010*\"joint\" + 0.010*\"love\" + 0.010*\"buy\"\n",
      "Topic: 2 Word: 0.025*\"love\" + 0.017*\"help\" + 0.015*\"product\" + 0.014*\"using\" + 0.013*\"blood\" + 0.011*\"recommended\" + 0.011*\"memory\" + 0.010*\"year\" + 0.010*\"doctor\" + 0.010*\"sleep\"\n",
      "Topic: 3 Word: 0.031*\"easy\" + 0.030*\"swallow\" + 0.018*\"eye\" + 0.014*\"taste\" + 0.012*\"health\" + 0.011*\"take\" + 0.011*\"capsule\" + 0.010*\"recommended\" + 0.010*\"product\" + 0.010*\"dry\"\n",
      "Topic: 4 Word: 0.035*\"fish\" + 0.028*\"oil\" + 0.011*\"happy\" + 0.011*\"product\" + 0.010*\"lemon\" + 0.010*\"great\" + 0.010*\"purchase\" + 0.009*\"ok\" + 0.009*\"taste\" + 0.009*\"best\"\n",
      "Topic: 5 Word: 0.016*\"feel\" + 0.013*\"better\" + 0.012*\"focus\" + 0.012*\"product\" + 0.012*\"day\" + 0.011*\"difference\" + 0.011*\"help\" + 0.010*\"focused\" + 0.010*\"great\" + 0.009*\"sleep\"\n",
      "Topic: 6 Word: 0.013*\"fish\" + 0.011*\"work\" + 0.011*\"product\" + 0.011*\"awesome\" + 0.010*\"oil\" + 0.009*\"taking\" + 0.008*\"feel\" + 0.008*\"taste\" + 0.008*\"take\" + 0.007*\"great\"\n",
      "Topic: 7 Word: 0.038*\"omega\" + 0.016*\"good\" + 0.016*\"great\" + 0.015*\"product\" + 0.012*\"price\" + 0.011*\"delivery\" + 0.010*\"seems\" + 0.010*\"fast\" + 0.010*\"brand\" + 0.009*\"supplement\"\n",
      "Topic: 8 Word: 0.049*\"quality\" + 0.016*\"lemon\" + 0.016*\"product\" + 0.015*\"good\" + 0.014*\"high\" + 0.012*\"great\" + 0.012*\"taste\" + 0.012*\"advertised\" + 0.010*\"oil\" + 0.009*\"fish\"\n",
      "Topic: 9 Word: 0.020*\"nordic\" + 0.019*\"aftertaste\" + 0.019*\"like\" + 0.018*\"taste\" + 0.017*\"fishy\" + 0.014*\"cholesterol\" + 0.013*\"natural\" + 0.012*\"product\" + 0.008*\"year\" + 0.007*\"take\"\n"
     ]
    }
   ],
   "metadata": {}
  },
  {
   "cell_type": "code",
   "execution_count": 42,
   "source": [
    "for index, score in sorted(lda_model_tfidf[bow_corpus[0]], key=lambda tup: -1*tup[1]):\n",
    "    print(\"\\nScore: {}\\t \\nTopic: {}\".format(score, lda_model_tfidf.print_topic(index, 10)))\n"
   ],
   "outputs": [
    {
     "output_type": "stream",
     "name": "stdout",
     "text": [
      "\n",
      "Score: 0.9709568619728088\t \n",
      "Topic: 0.049*\"quality\" + 0.016*\"lemon\" + 0.016*\"product\" + 0.015*\"good\" + 0.014*\"high\" + 0.012*\"great\" + 0.012*\"taste\" + 0.012*\"advertised\" + 0.010*\"oil\" + 0.009*\"fish\"\n"
     ]
    }
   ],
   "metadata": {}
  },
  {
   "cell_type": "code",
   "execution_count": 43,
   "source": [
    "for index, score in sorted(lda_model_tfidf[bow_corpus[19610]], key=lambda tup: -1*tup[1]):\n",
    "    print(\"\\nScore: {}\\t \\nTopic: {}\".format(score, lda_model_tfidf.print_topic(index, 10)))\n"
   ],
   "outputs": [
    {
     "output_type": "stream",
     "name": "stdout",
     "text": [
      "\n",
      "Score: 0.8874669075012207\t \n",
      "Topic: 0.080*\"great\" + 0.044*\"product\" + 0.035*\"burp\" + 0.027*\"excellent\" + 0.022*\"work\" + 0.018*\"fish\" + 0.011*\"taste\" + 0.010*\"joint\" + 0.010*\"love\" + 0.010*\"buy\"\n",
      "\n",
      "Score: 0.012504358775913715\t \n",
      "Topic: 0.049*\"quality\" + 0.016*\"lemon\" + 0.016*\"product\" + 0.015*\"good\" + 0.014*\"high\" + 0.012*\"great\" + 0.012*\"taste\" + 0.012*\"advertised\" + 0.010*\"oil\" + 0.009*\"fish\"\n",
      "\n",
      "Score: 0.012504163198173046\t \n",
      "Topic: 0.020*\"nordic\" + 0.019*\"aftertaste\" + 0.019*\"like\" + 0.018*\"taste\" + 0.017*\"fishy\" + 0.014*\"cholesterol\" + 0.013*\"natural\" + 0.012*\"product\" + 0.008*\"year\" + 0.007*\"take\"\n",
      "\n",
      "Score: 0.01250413991510868\t \n",
      "Topic: 0.025*\"love\" + 0.017*\"help\" + 0.015*\"product\" + 0.014*\"using\" + 0.013*\"blood\" + 0.011*\"recommended\" + 0.011*\"memory\" + 0.010*\"year\" + 0.010*\"doctor\" + 0.010*\"sleep\"\n",
      "\n",
      "Score: 0.012504053302109241\t \n",
      "Topic: 0.075*\"good\" + 0.023*\"product\" + 0.014*\"stuff\" + 0.014*\"best\" + 0.013*\"far\" + 0.011*\"eye\" + 0.011*\"great\" + 0.010*\"price\" + 0.009*\"expected\" + 0.009*\"like\"\n",
      "\n",
      "Score: 0.012503611855208874\t \n",
      "Topic: 0.031*\"easy\" + 0.030*\"swallow\" + 0.018*\"eye\" + 0.014*\"taste\" + 0.012*\"health\" + 0.011*\"take\" + 0.011*\"capsule\" + 0.010*\"recommended\" + 0.010*\"product\" + 0.010*\"dry\"\n",
      "\n",
      "Score: 0.012503385543823242\t \n",
      "Topic: 0.013*\"fish\" + 0.011*\"work\" + 0.011*\"product\" + 0.011*\"awesome\" + 0.010*\"oil\" + 0.009*\"taking\" + 0.008*\"feel\" + 0.008*\"taste\" + 0.008*\"take\" + 0.007*\"great\"\n",
      "\n",
      "Score: 0.012503353878855705\t \n",
      "Topic: 0.038*\"omega\" + 0.016*\"good\" + 0.016*\"great\" + 0.015*\"product\" + 0.012*\"price\" + 0.011*\"delivery\" + 0.010*\"seems\" + 0.010*\"fast\" + 0.010*\"brand\" + 0.009*\"supplement\"\n",
      "\n",
      "Score: 0.01250307448208332\t \n",
      "Topic: 0.035*\"fish\" + 0.028*\"oil\" + 0.011*\"happy\" + 0.011*\"product\" + 0.010*\"lemon\" + 0.010*\"great\" + 0.010*\"purchase\" + 0.009*\"ok\" + 0.009*\"taste\" + 0.009*\"best\"\n",
      "\n",
      "Score: 0.012502945959568024\t \n",
      "Topic: 0.016*\"feel\" + 0.013*\"better\" + 0.012*\"focus\" + 0.012*\"product\" + 0.012*\"day\" + 0.011*\"difference\" + 0.011*\"help\" + 0.010*\"focused\" + 0.010*\"great\" + 0.009*\"sleep\"\n"
     ]
    }
   ],
   "metadata": {}
  }
 ],
 "metadata": {
  "orig_nbformat": 4,
  "language_info": {
   "name": "python",
   "version": "3.9.1",
   "mimetype": "text/x-python",
   "codemirror_mode": {
    "name": "ipython",
    "version": 3
   },
   "pygments_lexer": "ipython3",
   "nbconvert_exporter": "python",
   "file_extension": ".py"
  },
  "kernelspec": {
   "name": "python3",
   "display_name": "Python 3.9.1 64-bit ('Project': venv)"
  },
  "interpreter": {
   "hash": "14188f87d17fa20afa4e8bf2718fff38f7226ed697d0c8b136b4660881948bb5"
  }
 },
 "nbformat": 4,
 "nbformat_minor": 2
}