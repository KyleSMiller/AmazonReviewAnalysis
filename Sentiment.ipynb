{
  "nbformat": 4,
  "nbformat_minor": 0,
  "metadata": {
    "colab": {
      "name": "AmazonSentimentipynb",
      "provenance": [],
      "collapsed_sections": [],
      "machine_shape": "hm"
    },
    "kernelspec": {
      "display_name": "Python 3",
      "name": "python3"
    },
    "accelerator": "GPU"
  },
  "cells": [
    {
      "cell_type": "markdown",
      "metadata": {
        "id": "koJZnWQNNPD_"
      },
      "source": [
        "## Importing needed libraries"
      ]
    },
    {
      "cell_type": "code",
      "metadata": {
        "colab": {
          "base_uri": "https://localhost:8080/"
        },
        "id": "w6o8-g0tEqNz",
        "outputId": "a41c2697-6c55-4f38-8ce8-02f819b8b62a"
      },
      "source": [
        "#wget shell script taken from johnsnowlabs tutorials -> used to get spark to work on Google Colab\n",
        "!wget http://setup.johnsnowlabs.com/colab.sh -O - | bash\n"
      ],
      "execution_count": 1,
      "outputs": [
        {
          "output_type": "stream",
          "text": [
            "--2021-08-13 00:58:57--  http://setup.johnsnowlabs.com/colab.sh\n",
            "Resolving setup.johnsnowlabs.com (setup.johnsnowlabs.com)... 51.158.130.125\n",
            "Connecting to setup.johnsnowlabs.com (setup.johnsnowlabs.com)|51.158.130.125|:80... connected.\n",
            "HTTP request sent, awaiting response... 302 Moved Temporarily\n",
            "Location: https://raw.githubusercontent.com/JohnSnowLabs/spark-nlp/master/scripts/colab_setup.sh [following]\n",
            "--2021-08-13 00:58:57--  https://raw.githubusercontent.com/JohnSnowLabs/spark-nlp/master/scripts/colab_setup.sh\n",
            "Resolving raw.githubusercontent.com (raw.githubusercontent.com)... 185.199.108.133, 185.199.109.133, 185.199.110.133, ...\n",
            "Connecting to raw.githubusercontent.com (raw.githubusercontent.com)|185.199.108.133|:443... connected.\n",
            "HTTP request sent, awaiting response... 200 OK\n",
            "Length: 1608 (1.6K) [text/plain]\n",
            "Saving to: ‘STDOUT’\n",
            "\n",
            "-                   100%[===================>]   1.57K  --.-KB/s    in 0s      \n",
            "\n",
            "2021-08-13 00:58:58 (41.0 MB/s) - written to stdout [1608/1608]\n",
            "\n",
            "setup Colab for PySpark 3.1.2 and Spark NLP 3.2.1\n",
            "Ign:1 https://developer.download.nvidia.com/compute/cuda/repos/ubuntu1804/x86_64  InRelease\n",
            "Get:2 http://security.ubuntu.com/ubuntu bionic-security InRelease [88.7 kB]\n",
            "Hit:3 http://ppa.launchpad.net/c2d4u.team/c2d4u4.0+/ubuntu bionic InRelease\n",
            "Ign:4 https://developer.download.nvidia.com/compute/machine-learning/repos/ubuntu1804/x86_64  InRelease\n",
            "Hit:5 https://developer.download.nvidia.com/compute/cuda/repos/ubuntu1804/x86_64  Release\n",
            "Hit:6 https://developer.download.nvidia.com/compute/machine-learning/repos/ubuntu1804/x86_64  Release\n",
            "Hit:7 https://cloud.r-project.org/bin/linux/ubuntu bionic-cran40/ InRelease\n",
            "Hit:8 http://archive.ubuntu.com/ubuntu bionic InRelease\n",
            "Hit:10 http://ppa.launchpad.net/cran/libgit2/ubuntu bionic InRelease\n",
            "Get:11 http://archive.ubuntu.com/ubuntu bionic-updates InRelease [88.7 kB]\n",
            "Hit:13 http://ppa.launchpad.net/deadsnakes/ppa/ubuntu bionic InRelease\n",
            "Get:14 http://archive.ubuntu.com/ubuntu bionic-backports InRelease [74.6 kB]\n",
            "Hit:15 http://ppa.launchpad.net/graphics-drivers/ppa/ubuntu bionic InRelease\n",
            "Fetched 252 kB in 2s (112 kB/s)\n",
            "Reading package lists... Done\n"
          ],
          "name": "stdout"
        }
      ]
    },
    {
      "cell_type": "code",
      "metadata": {
        "id": "yMmT9S6mE0ad",
        "colab": {
          "base_uri": "https://localhost:8080/"
        },
        "outputId": "2944da6a-73e2-4fdb-f528-e16ab2a39538"
      },
      "source": [
        "import pandas as pd\n",
        "import numpy as np\n",
        "from sparknlp.base import LightPipeline\n",
        "import json\n",
        "from pyspark.ml import Pipeline\n",
        "from pyspark.sql import SparkSession\n",
        "import pyspark.sql.functions as F\n",
        "from pyspark.sql import SQLContext\n",
        "from sparknlp.annotator import *\n",
        "from sparknlp.base import *\n",
        "import sparknlp\n",
        "from sparknlp.pretrained import PretrainedPipeline\n",
        "import seaborn as sns\n",
        "sns.set(style='whitegrid', palette='muted')\n",
        "from sklearn.model_selection import train_test_split\n",
        "import matplotlib.pyplot as plt\n",
        "from matplotlib import rc\n",
        "from sklearn.metrics import classification_report, accuracy_score, confusion_matrix\n",
        "\n",
        "import nltk\n",
        "import re\n",
        "from nltk import word_tokenize\n",
        "from nltk.util import ngrams\n",
        "from nltk.tokenize import sent_tokenize\n",
        "from nltk.stem.porter import PorterStemmer\n",
        "from nltk.stem import WordNetLemmatizer\n",
        "from nltk import pos_tag\n",
        "nltk.download('punkt')\n",
        "nltk.download('stopwords')\n",
        "nltk.download('wordnet')\n",
        "\n",
        "import gensim\n",
        "from gensim import corpora, models\n",
        "\n",
        "import collections"
      ],
      "execution_count": 2,
      "outputs": [
        {
          "output_type": "stream",
          "text": [
            "[nltk_data] Downloading package punkt to /root/nltk_data...\n",
            "[nltk_data]   Package punkt is already up-to-date!\n",
            "[nltk_data] Downloading package stopwords to /root/nltk_data...\n",
            "[nltk_data]   Package stopwords is already up-to-date!\n",
            "[nltk_data] Downloading package wordnet to /root/nltk_data...\n",
            "[nltk_data]   Package wordnet is already up-to-date!\n"
          ],
          "name": "stdout"
        }
      ]
    },
    {
      "cell_type": "code",
      "metadata": {
        "colab": {
          "base_uri": "https://localhost:8080/",
          "height": 397
        },
        "id": "w5VG1036ERaX",
        "outputId": "168ca1c1-0e5b-44e0-d73e-ff221afa24cc"
      },
      "source": [
        "#If running from Google Colab, you will need to run this and restart runtime\n",
        "!pip3 install --upgrade pandas"
      ],
      "execution_count": 3,
      "outputs": [
        {
          "output_type": "stream",
          "text": [
            "Requirement already satisfied: pandas in /usr/local/lib/python3.7/dist-packages (1.1.5)\n",
            "Collecting pandas\n",
            "  Downloading pandas-1.3.1-cp37-cp37m-manylinux_2_17_x86_64.manylinux2014_x86_64.whl (11.5 MB)\n",
            "\u001b[K     |████████████████████████████████| 11.5 MB 4.2 MB/s \n",
            "\u001b[?25hRequirement already satisfied: pytz>=2017.3 in /usr/local/lib/python3.7/dist-packages (from pandas) (2018.9)\n",
            "Requirement already satisfied: python-dateutil>=2.7.3 in /usr/local/lib/python3.7/dist-packages (from pandas) (2.8.1)\n",
            "Requirement already satisfied: numpy>=1.17.3 in /usr/local/lib/python3.7/dist-packages (from pandas) (1.19.5)\n",
            "Requirement already satisfied: six>=1.5 in /usr/local/lib/python3.7/dist-packages (from python-dateutil>=2.7.3->pandas) (1.15.0)\n",
            "Installing collected packages: pandas\n",
            "  Attempting uninstall: pandas\n",
            "    Found existing installation: pandas 1.1.5\n",
            "    Uninstalling pandas-1.1.5:\n",
            "      Successfully uninstalled pandas-1.1.5\n",
            "\u001b[31mERROR: pip's dependency resolver does not currently take into account all the packages that are installed. This behaviour is the source of the following dependency conflicts.\n",
            "google-colab 1.0.0 requires pandas~=1.1.0; python_version >= \"3.0\", but you have pandas 1.3.1 which is incompatible.\u001b[0m\n",
            "Successfully installed pandas-1.3.1\n"
          ],
          "name": "stdout"
        },
        {
          "output_type": "display_data",
          "data": {
            "application/vnd.colab-display-data+json": {
              "pip_warning": {
                "packages": [
                  "pandas"
                ]
              }
            }
          },
          "metadata": {
            "tags": []
          }
        }
      ]
    },
    {
      "cell_type": "code",
      "metadata": {
        "id": "4zBXbY_vE2ss"
      },
      "source": [
        "spark = sparknlp.start(gpu=True)"
      ],
      "execution_count": 3,
      "outputs": []
    },
    {
      "cell_type": "markdown",
      "metadata": {
        "id": "Z3n4NloINS22"
      },
      "source": [
        "## Organizing Data\n"
      ]
    },
    {
      "cell_type": "markdown",
      "metadata": {
        "id": "iaTOc2r1nvwa"
      },
      "source": [
        "###Reading the Julian McAuley Amazon Dataset (Health and personal Care 5-core)\n",
        "This will be used as a training set \n",
        "\n",
        "\n",
        "Dataset credit: Ups and downs: Modeling the visual evolution of fashion trends with one-class collaborative filtering\n",
        "R. He, J. McAuley\n",
        "WWW, 2016"
      ]
    },
    {
      "cell_type": "code",
      "metadata": {
        "id": "HmFknuf2oKJB"
      },
      "source": [
        "mcAuley = pd.read_json(\"./Health_and_Personal_Care_5.json\", lines=True)"
      ],
      "execution_count": 4,
      "outputs": []
    },
    {
      "cell_type": "code",
      "metadata": {
        "id": "yyLsdzhAo10o"
      },
      "source": [
        "mcAuley = mcAuley.drop(['reviewerID', 'asin', 'reviewerName', 'unixReviewTime', 'reviewTime'], axis=1)\n",
        "mcAuley = mcAuley.rename(columns={\"reviewText\": \"text\",\"overall\": \"rating\"})"
      ],
      "execution_count": 5,
      "outputs": []
    },
    {
      "cell_type": "code",
      "metadata": {
        "id": "bpRbIjo-N0GB"
      },
      "source": [
        "def sentiment_level(num):\n",
        "  if int(num) >=4:\n",
        "    return \"positive\"\n",
        "  else:\n",
        "    return \"negative\""
      ],
      "execution_count": 6,
      "outputs": []
    },
    {
      "cell_type": "code",
      "metadata": {
        "id": "S1LtQFIbN5Hj"
      },
      "source": [
        "mcAuley['sentiment'] = mcAuley.rating.apply(sentiment_level)"
      ],
      "execution_count": 7,
      "outputs": []
    },
    {
      "cell_type": "code",
      "metadata": {
        "colab": {
          "base_uri": "https://localhost:8080/",
          "height": 359
        },
        "id": "1TLozPK9zhB6",
        "outputId": "29ce7aed-6816-459b-eebc-185570a7a562"
      },
      "source": [
        "sns.countplot(mcAuley.sentiment)"
      ],
      "execution_count": 304,
      "outputs": [
        {
          "output_type": "stream",
          "text": [
            "/usr/local/lib/python3.7/dist-packages/seaborn/_decorators.py:43: FutureWarning: Pass the following variable as a keyword arg: x. From version 0.12, the only valid positional argument will be `data`, and passing other arguments without an explicit keyword will result in an error or misinterpretation.\n",
            "  FutureWarning\n"
          ],
          "name": "stderr"
        },
        {
          "output_type": "execute_result",
          "data": {
            "text/plain": [
              "<matplotlib.axes._subplots.AxesSubplot at 0x7fe272288a50>"
            ]
          },
          "metadata": {
            "tags": []
          },
          "execution_count": 304
        },
        {
          "output_type": "display_data",
          "data": {
            "image/png": "[encoded data removed]",
            "text/plain": [
              "<Figure size 432x288 with 1 Axes>"
            ]
          },
          "metadata": {
            "tags": []
          }
        }
      ]
    },
    {
      "cell_type": "markdown",
      "metadata": {
        "id": "7RbK0H9n87m3"
      },
      "source": [
        "### Reading scraped data"
      ]
    },
    {
      "cell_type": "code",
      "metadata": {
        "id": "a2r-eT3GAE7N"
      },
      "source": [
        "products = pd.read_pickle(\"reviews.pkl\")\n",
        "products_t = products.T\n",
        "products_t.index.name = \"product_id\"\n",
        "reviews = pd.DataFrame()\n",
        "reviews_rating  = []\n",
        "reviews_text = []\n",
        "reviews_productname = []\n",
        "reviews_product = []\n",
        "for ind, row in products_t.iterrows():\n",
        "    for rev in row['reviews'][0:len(row['reviews'])]:\n",
        "        reviews_rating.append(rev['rating'])\n",
        "        reviews_text.append(rev['text'])\n",
        "        reviews_productname.append(row['name'])\n",
        "        reviews_product.append(ind)\n",
        "reviews = pd.DataFrame({'rating':reviews_rating, 'text':reviews_text, 'product_name':reviews_productname, 'product':reviews_product})"
      ],
      "execution_count": 8,
      "outputs": []
    },
    {
      "cell_type": "code",
      "metadata": {
        "colab": {
          "base_uri": "https://localhost:8080/",
          "height": 205
        },
        "id": "7Gdu8IGY9CgZ",
        "outputId": "fac14c19-5b7e-4fcf-9263-e85bdb6d6f7c"
      },
      "source": [
        "reviews.head()"
      ],
      "execution_count": 308,
      "outputs": [
        {
          "output_type": "execute_result",
          "data": {
            "text/html": [
              "<div>\n",
              "<style scoped>\n",
              "    .dataframe tbody tr th:only-of-type {\n",
              "        vertical-align: middle;\n",
              "    }\n",
              "\n",
              "    .dataframe tbody tr th {\n",
              "        vertical-align: top;\n",
              "    }\n",
              "\n",
              "    .dataframe thead th {\n",
              "        text-align: right;\n",
              "    }\n",
              "</style>\n",
              "<table border=\"1\" class=\"dataframe\">\n",
              "  <thead>\n",
              "    <tr style=\"text-align: right;\">\n",
              "      <th></th>\n",
              "      <th>rating</th>\n",
              "      <th>text</th>\n",
              "      <th>product_name</th>\n",
              "      <th>product</th>\n",
              "    </tr>\n",
              "  </thead>\n",
              "  <tbody>\n",
              "    <tr>\n",
              "      <th>0</th>\n",
              "      <td>1.0</td>\n",
              "      <td>I work for NOW Foods and bought three differen...</td>\n",
              "      <td>PhosphatidylSerine 300mg Per Serving, Made in ...</td>\n",
              "      <td>B079YF1K1B</td>\n",
              "    </tr>\n",
              "    <tr>\n",
              "      <th>1</th>\n",
              "      <td>5.0</td>\n",
              "      <td>You can't beat $19.95 for PS with 120 caps! Ye...</td>\n",
              "      <td>PhosphatidylSerine 300mg Per Serving, Made in ...</td>\n",
              "      <td>B079YF1K1B</td>\n",
              "    </tr>\n",
              "    <tr>\n",
              "      <th>2</th>\n",
              "      <td>5.0</td>\n",
              "      <td>I was waking up at 4:00 a.m each morning due t...</td>\n",
              "      <td>PhosphatidylSerine 300mg Per Serving, Made in ...</td>\n",
              "      <td>B079YF1K1B</td>\n",
              "    </tr>\n",
              "    <tr>\n",
              "      <th>3</th>\n",
              "      <td>5.0</td>\n",
              "      <td>I'm 47 I have been in flight and survive mode ...</td>\n",
              "      <td>PhosphatidylSerine 300mg Per Serving, Made in ...</td>\n",
              "      <td>B079YF1K1B</td>\n",
              "    </tr>\n",
              "    <tr>\n",
              "      <th>4</th>\n",
              "      <td>5.0</td>\n",
              "      <td>I've been taking phosphatidylserine for a whil...</td>\n",
              "      <td>PhosphatidylSerine 300mg Per Serving, Made in ...</td>\n",
              "      <td>B079YF1K1B</td>\n",
              "    </tr>\n",
              "  </tbody>\n",
              "</table>\n",
              "</div>"
            ],
            "text/plain": [
              "   rating  ...     product\n",
              "0     1.0  ...  B079YF1K1B\n",
              "1     5.0  ...  B079YF1K1B\n",
              "2     5.0  ...  B079YF1K1B\n",
              "3     5.0  ...  B079YF1K1B\n",
              "4     5.0  ...  B079YF1K1B\n",
              "\n",
              "[5 rows x 4 columns]"
            ]
          },
          "metadata": {
            "tags": []
          },
          "execution_count": 308
        }
      ]
    },
    {
      "cell_type": "code",
      "metadata": {
        "id": "xlgeLtTIXZom"
      },
      "source": [
        "reviews = reviews.dropna()"
      ],
      "execution_count": 9,
      "outputs": []
    },
    {
      "cell_type": "code",
      "metadata": {
        "id": "CwgW2kFJXBe-"
      },
      "source": [
        "reviews['rating'] = reviews['rating'].astype(int)"
      ],
      "execution_count": 10,
      "outputs": []
    },
    {
      "cell_type": "code",
      "metadata": {
        "id": "pEAiaL1wVVvW"
      },
      "source": [
        "reviews['sentiment'] = reviews.rating.apply(sentiment_level)\n"
      ],
      "execution_count": 11,
      "outputs": []
    },
    {
      "cell_type": "code",
      "metadata": {
        "colab": {
          "base_uri": "https://localhost:8080/"
        },
        "id": "wvoj8QtuxaPY",
        "outputId": "6d45d0c6-453c-4408-a2cc-59aa2f03b5ea"
      },
      "source": [
        "reviews.info()"
      ],
      "execution_count": 313,
      "outputs": [
        {
          "output_type": "stream",
          "text": [
            "<class 'pandas.core.frame.DataFrame'>\n",
            "Int64Index: 19261 entries, 0 to 19674\n",
            "Data columns (total 5 columns):\n",
            " #   Column        Non-Null Count  Dtype \n",
            "---  ------        --------------  ----- \n",
            " 0   rating        19261 non-null  int64 \n",
            " 1   text          19261 non-null  object\n",
            " 2   product_name  19261 non-null  object\n",
            " 3   product       19261 non-null  object\n",
            " 4   sentiment     19261 non-null  object\n",
            "dtypes: int64(1), object(4)\n",
            "memory usage: 902.9+ KB\n"
          ],
          "name": "stdout"
        }
      ]
    },
    {
      "cell_type": "markdown",
      "metadata": {
        "id": "R9v4l1_XUWvi"
      },
      "source": [
        "###Splitting datasets and fixing unbalanced data"
      ]
    },
    {
      "cell_type": "code",
      "metadata": {
        "id": "I8qSIVZ-UWCh"
      },
      "source": [
        "#in case you want to use the scraped data as both train and test sets:\n",
        "  # train, test = train_test_split(reviews, test_size=0.33, random_state=30)"
      ],
      "execution_count": null,
      "outputs": []
    },
    {
      "cell_type": "code",
      "metadata": {
        "id": "1VC8B6OpvKBY"
      },
      "source": [
        "sqlCtx = SQLContext(spark)"
      ],
      "execution_count": 12,
      "outputs": []
    },
    {
      "cell_type": "code",
      "metadata": {
        "id": "BwibT3lEvoIk"
      },
      "source": [
        "spark_train = sqlCtx.createDataFrame(mcAuley)\n",
        "spark_test = sqlCtx.createDataFrame(reviews)"
      ],
      "execution_count": 13,
      "outputs": []
    },
    {
      "cell_type": "code",
      "metadata": {
        "id": "vDEONLeN6KrZ"
      },
      "source": [
        "spark_train_pos = spark_train.filter(F.col('sentiment') == \"positive\")\n",
        "spark_train_neg = spark_train.filter(F.col('sentiment') == 'negative')\n",
        "# spark_train_neu = spark_train.filter(F.col('sentiment') == 'neutral')"
      ],
      "execution_count": 14,
      "outputs": []
    },
    {
      "cell_type": "code",
      "metadata": {
        "colab": {
          "base_uri": "https://localhost:8080/"
        },
        "id": "DA_Qnb116ddq",
        "outputId": "5bedf811-c4f7-4b5b-9c45-ecea08fe91a4"
      },
      "source": [
        "pnratio = int(spark_train_pos.count()/spark_train_neg.count())\n",
        "print(\"ratio: {}\".format(pnratio))"
      ],
      "execution_count": 15,
      "outputs": [
        {
          "output_type": "stream",
          "text": [
            "ratio: 4\n"
          ],
          "name": "stdout"
        }
      ]
    },
    {
      "cell_type": "code",
      "metadata": {
        "id": "keKUrUvB6nRI"
      },
      "source": [
        "undersampled_pos = spark_train_pos.sample(False, 1/pnratio)\n",
        "spark_train = undersampled_pos.unionAll(spark_train_neg)"
      ],
      "execution_count": 16,
      "outputs": []
    },
    {
      "cell_type": "code",
      "metadata": {
        "id": "NaYKcfjK0VHa"
      },
      "source": [
        "pd_train = spark_train.toPandas()"
      ],
      "execution_count": 17,
      "outputs": []
    },
    {
      "cell_type": "code",
      "metadata": {
        "colab": {
          "base_uri": "https://localhost:8080/",
          "height": 359
        },
        "id": "Cj0gYzyN2Uqy",
        "outputId": "53812c73-6dab-4ad8-acd4-b394f628b88f"
      },
      "source": [
        "sns.countplot(pd_train['sentiment'])"
      ],
      "execution_count": 18,
      "outputs": [
        {
          "output_type": "stream",
          "text": [
            "/usr/local/lib/python3.7/dist-packages/seaborn/_decorators.py:43: FutureWarning: Pass the following variable as a keyword arg: x. From version 0.12, the only valid positional argument will be `data`, and passing other arguments without an explicit keyword will result in an error or misinterpretation.\n",
            "  FutureWarning\n"
          ],
          "name": "stderr"
        },
        {
          "output_type": "execute_result",
          "data": {
            "text/plain": [
              "<matplotlib.axes._subplots.AxesSubplot at 0x7f4009a96750>"
            ]
          },
          "metadata": {
            "tags": []
          },
          "execution_count": 18
        },
        {
          "output_type": "display_data",
          "data": {
            "image/png": "[encoded data removed]",
            "text/plain": [
              "<Figure size 432x288 with 1 Axes>"
            ]
          },
          "metadata": {
            "tags": []
          }
        }
      ]
    },
    {
      "cell_type": "code",
      "metadata": {
        "colab": {
          "base_uri": "https://localhost:8080/"
        },
        "id": "ieaqWN0C7M5i",
        "outputId": "3eb60af7-5bb5-498b-816c-bd5493583052"
      },
      "source": [
        "spark_train_pos = spark_train.filter(F.col('sentiment') == \"positive\")\n",
        "spark_train_neu = spark_train.filter(F.col('sentiment') == 'negative')\n",
        "fixed_psratio = int(spark_train_pos.count()/spark_train_neg.count())\n",
        "print(\"ratio: {}\".format(fixed_psratio))"
      ],
      "execution_count": 19,
      "outputs": [
        {
          "output_type": "stream",
          "text": [
            "ratio: 1\n"
          ],
          "name": "stdout"
        }
      ]
    },
    {
      "cell_type": "code",
      "metadata": {
        "colab": {
          "base_uri": "https://localhost:8080/"
        },
        "id": "cLSdXqcmaLDK",
        "outputId": "6b693610-d7ad-4438-e4b5-45312876e1af"
      },
      "source": [
        "# pnratio = int(spark_train_pos.count()/spark_train_neu.count())\n",
        "# print(\"ratio: {}\".format(pnratio))"
      ],
      "execution_count": null,
      "outputs": [
        {
          "output_type": "stream",
          "text": [
            "ratio: 1\n"
          ],
          "name": "stdout"
        }
      ]
    },
    {
      "cell_type": "markdown",
      "metadata": {
        "id": "sl8vsy03Np6C"
      },
      "source": [
        "### Defining Spark Pipeline "
      ]
    },
    {
      "cell_type": "code",
      "metadata": {
        "colab": {
          "base_uri": "https://localhost:8080/"
        },
        "id": "IiYxv0mOFIcX",
        "outputId": "427dffd5-4136-4e2f-cf96-0bfb7c5fb0ec"
      },
      "source": [
        "documentAssembler = DocumentAssembler()\\\n",
        "    .setInputCol(\"text\")\\\n",
        "    .setOutputCol(\"document\")\n",
        "    \n",
        "use = UniversalSentenceEncoder.pretrained(name=\"tfhub_use\", lang=\"en\")\\\n",
        " .setInputCols([\"document\"])\\\n",
        " .setOutputCol(\"sentence_embeddings\")\\\n",
        "\n",
        "classifier_dl = ClassifierDLApproach()\\\n",
        "  .setInputCols([\"sentence_embeddings\"])\\\n",
        "  .setOutputCol(\"class\")\\\n",
        "  .setLabelColumn(\"sentiment\")\\\n",
        "  .setLr(0.001)\\\n",
        "  .setBatchSize(8)\\\n",
        "  .setMaxEpochs(3)\\\n",
        "\n",
        "sentimentdl = SentimentDLApproach()\\\n",
        "  .setInputCols([\"sentence_embeddings\"])\\\n",
        "  .setOutputCol(\"class\")\\\n",
        "  .setLabelColumn(\"sentiment\")\\\n",
        "  .setMaxEpochs(5)\\\n",
        "  .setEnableOutputLogs(True)\n",
        "\n",
        "multi_classifierdl = MultiClassifierDLApproach()\\\n",
        "      .setInputCols(\"sentence_embeddings\")\\\n",
        "      .setOutputCol(\"class\")\\\n",
        "      .setLabelColumn(\"sentiment\")\\\n",
        "      .setBatchSize(128)\\\n",
        "      .setMaxEpochs(5)\\\n",
        "      .setLr(1e-3)\\\n",
        "      .setThreshold(0.5)\\\n",
        "      .setShufflePerEpoch(False)\\\n",
        "      .setEnableOutputLogs(True)\\\n",
        "      .setValidationSplit(0.1)"
      ],
      "execution_count": 20,
      "outputs": [
        {
          "output_type": "stream",
          "text": [
            "tfhub_use download started this may take some time.\n",
            "Approximate size to download 923.7 MB\n",
            "[OK!]\n"
          ],
          "name": "stdout"
        }
      ]
    },
    {
      "cell_type": "code",
      "metadata": {
        "id": "uZ4dtJ26sw2Y"
      },
      "source": [
        "gs_pipeline = Pipeline(stages=[\n",
        "          documentAssembler, \n",
        "          use,\n",
        "          classifier_dl\n",
        " ])\n"
      ],
      "execution_count": 21,
      "outputs": []
    },
    {
      "cell_type": "markdown",
      "metadata": {
        "id": "9rFCvvHnN3ox"
      },
      "source": [
        "### Using pipeline to create & use model"
      ]
    },
    {
      "cell_type": "code",
      "metadata": {
        "id": "1R4nB2_kukDO"
      },
      "source": [
        "gs_pipeline_model = gs_pipeline.fit(spark_train)\n"
      ],
      "execution_count": 22,
      "outputs": []
    },
    {
      "cell_type": "code",
      "metadata": {
        "id": "jRWNBrwTeoiq"
      },
      "source": [
        "preds = gs_pipeline_model.transform(spark_test)"
      ],
      "execution_count": 23,
      "outputs": []
    },
    {
      "cell_type": "code",
      "metadata": {
        "colab": {
          "base_uri": "https://localhost:8080/"
        },
        "id": "fu9l7NI4N53g",
        "outputId": "2edbe4fe-280c-4da5-87e7-96c4d9fa58e4"
      },
      "source": [
        "preds.select('sentiment', 'rating', 'text', 'class.result').show(300, truncate=100)"
      ],
      "execution_count": 24,
      "outputs": [
        {
          "output_type": "stream",
          "text": [
            "+---------+------+----------------------------------------------------------------------------------------------------+----------+\n",
            "|sentiment|rating|                                                                                                text|    result|\n",
            "+---------+------+----------------------------------------------------------------------------------------------------+----------+\n",
            "| negative|     1|I work for NOW Foods and bought three different bottles of this product, lot # 1912697.  We teste...|[positive]|\n",
            "| positive|     5|You can't beat $19.95 for PS with 120 caps! Yes, I do have to take a bit more for the same effect...|[negative]|\n",
            "| positive|     5|I was waking up at 4:00 a.m each morning due to cortisol spikes and would be wired and tired all ...|[positive]|\n",
            "| positive|     5|I'm 47 I have been in flight and survive mode for 45 yrs with HIGH cortisone levels until I devel...|[positive]|\n",
            "| positive|     5|I've been taking phosphatidylserine for a while now.  I'm still fairly young and take good care o...|[positive]|\n",
            "| positive|     5|I have definitely noticed an increased alertness and overall better mental clarity with this prod...|[positive]|\n",
            "| negative|     3|Side effects for myself included insomnia and pain in muscles and joints upon initial 2 days of t...|[negative]|\n",
            "| positive|     5|I'm not big on a lot of supplements, as most are snake oil, imo. But this, this is one of the bes...|[positive]|\n",
            "| negative|     1|The information on the front of the bottle is misleading.  It states 120 pills and 300mg.  One wo...|[negative]|\n",
            "| positive|     5|I’m not affiliated to this company in any way and I DID NOT RECIVED A FREE BOTTLE. Like many othe...|[positive]|\n",
            "| positive|     5|Okay. I am 54 and started taking this as I felt my memory was not as sharp as previous. A little ...|[positive]|\n",
            "| positive|     5|I can not say enough about how much this product has helped me. I am on my second bottle and so i...|[positive]|\n",
            "| positive|     5|These are small, easy to swallow capsules. My 14-year-old son has not been able to tolerate regul...|[positive]|\n",
            "| positive|     5|After having tried many different medicines with little luck. I gave the last try to ps. Started ...|[positive]|\n",
            "| positive|     5|This is an excellent product from an excellent company. After looking for ways to improve my read...|[positive]|\n",
            "| positive|     5|I have used PS off and on for many years. This is the most reasonably priced one, and I only have...|[positive]|\n",
            "| positive|     5|First of all, I do not post many reviews of products.  I took this to help with general anxiety a...|[positive]|\n",
            "| positive|     5|This product is amazing! I suffer from MS and have brain fog, low energy and bad mood swings. I h...|[positive]|\n",
            "| positive|     5|Potent stuff. I'll be honest, I'm taking half of the recommended dose and I seem to be on a rocke...|[positive]|\n",
            "| positive|     5|Definitely helps with anxiety and cortisol/stress levels. I suffer from Anxiety and I notice a di...|[positive]|\n",
            "| positive|     5|i take lots of other supplements and medication also...but...when i started taking this i noticed...|[positive]|\n",
            "| positive|     5|For the sake of brevity let’s just say I use phosphatidylserine for stress.  Many have heard or r...|[positive]|\n",
            "| positive|     5|Day 2 on this supplement. My mental clarity since I’ve started talking this is noticeably better....|[positive]|\n",
            "| negative|     1|Please be careful when you order this. The first time I ordered it, the ingredients were differen...|[negative]|\n",
            "| positive|     5|I bought this because several reviews cited improved sleep.  What I have noticed, however, is imp...|[negative]|\n",
            "| positive|     5|I started taking this product over a year ago when my Dr. recommended it for extreme adrenal fati...|[positive]|\n",
            "| positive|     5|I was dieting my whole life to keep my normal weight of 140 lbs . I went to the gym and tried eve...|[negative]|\n",
            "| positive|     5|I have used PS off and on, with good results. This PS by Doublewood is the highest quality PS on ...|[positive]|\n",
            "| negative|     1|Product is probably very good... problem is front label on the bottle says product is 300mg, \"per...|[negative]|\n",
            "| positive|     4|Okay, I did my research.  I am a very analytical person.  I had read that this has been used in E...|[negative]|\n",
            "| positive|     5|I've been taking Double Wood PhosphatidylSerine for over 2 weeks now and I feel that my thinking ...|[positive]|\n",
            "| positive|     4|Good product and great company. The results are as one expects from a quality PS supplement: redu...|[negative]|\n",
            "| positive|     5|I have use phosphatidylserine  as part of a nootropic stack for several years. I find that this p...|[positive]|\n",
            "| positive|     5|I purchased this supplement because I was having zero improvement with this supplement from anoth...|[positive]|\n",
            "| positive|     5|I feel like this supplement has really helped me manage stress & not feel overwhelmed! It definit...|[positive]|\n",
            "| positive|     5|This is the first PS supplement I've used. After some research I decided to try it out for myself...|[positive]|\n",
            "| negative|     1|I bought this product because the web listing states it is non-gmo.  When I got it nowhere on the...|[negative]|\n",
            "| negative|     1|I lift weights and do cardio several days a week. I am in perfect shape and my physicals ad blood...|[positive]|\n",
            "| positive|     4|          Think I am sleeping a tad better. And while I'm still stupid, I feel like I'm less stupid!|[negative]|\n",
            "| positive|     5|As I write this I am about to turn 75. There is a history of Alzheimer's and non-specific dementi...|[positive]|\n",
            "| negative|     2|I was advised by my doctor to start taking this to help lower my high cortisol level. Purchased t...|[negative]|\n",
            "| negative|     1|                                  Intestinal distress, gas and continual pain, after only four days.|[negative]|\n",
            "| positive|     5|Phosphatidylserine is one of the tried and true nootropics. It has been studied for decades acros...|[positive]|\n",
            "| positive|     5|I had major stress this year, and felt like it literally changed my brain chemistry. I was lookin...|[positive]|\n",
            "| positive|     5|I've had ME/CFS for most of my life, and last spring it got to the point where I was missing ever...|[positive]|\n",
            "| negative|     3|I am on a quest to improve my memory and have a list of supplements I have been trying to do so. ...|[positive]|\n",
            "| positive|     5|I started taking this for cognitive benefits because I had begun to forget things that not long a...|[positive]|\n",
            "| negative|     1|After 2 weeks of no noticeable anything I started having heart palpitations which stopped after I...|[negative]|\n",
            "| negative|     3|I slept well and felt good for a little under 2 weeks with this product.....and then the magic wa...|[positive]|\n",
            "| negative|     1|The bottle I received is Bovine Gelatin. (Hydrolyzed Bovine Gelatin is a protein product produced...|[negative]|\n",
            "| negative|     1|I was using a different product to help get my elevated night-time cortisol under control.  I cou...|[positive]|\n",
            "| positive|     5|As a 66 year old male, my memory was not what it used to be. I decided to try Phosphatidyl Serine...|[negative]|\n",
            "| negative|     3|                        Bought for ex wife and she is still insane but at least not senile..........|[positive]|\n",
            "| positive|     5|I take this to help correct a long term sleeping problem. I wake after a few hours and can't get ...|[positive]|\n",
            "| positive|     5|This is the 1st time I've taken these kind of supplements, therefore is the first brand also. I a...|[positive]|\n",
            "| positive|     5|Tried other nootropics that called themselves brain boosters, mushroom enhancers, etc. They eithe...|[positive]|\n",
            "| positive|     5|This was effective at enhancing my recall if an anecdote helps. I’ve been working with nootropics...|[positive]|\n",
            "| positive|     5|Because of a chronic illness, I take many supplements for various reasons.  This is the second br...|[positive]|\n",
            "| positive|     5|I've been taking PS with Holy Basil to lower high cortisol and I'm loving this product. I can fee...|[positive]|\n",
            "| positive|     5|I bought this Double Wood supplement on Amazon and along with their Pregnenolone have found that ...|[positive]|\n",
            "| positive|     5|This product works better than the original one my pharmacy recommended at between 3 and 4 times ...|[positive]|\n",
            "| positive|     5|I mentioned to my dietician that I was suffering from age related short term memory loss and she ...|[positive]|\n",
            "| positive|     5|                        Wow, what a game changer. Sleep is a 100 % better . Focus is a 100 % better.|[positive]|\n",
            "| positive|     5|When I read comments like \"this product has saved my life\" I get a little skeptical, but I actual...|[positive]|\n",
            "| positive|     5|This product simply works! I have a demanding job that requires a lot of concentration and brain ...|[positive]|\n",
            "| positive|     4|I became interested in this particular supplement after reading some very interesting information...|[positive]|\n",
            "| positive|     5|I stop taking it every now and then, just to see if it's doing anything. I'm dull as a stone afte...|[positive]|\n",
            "| positive|     5|My practitioner mentioned this to help my struggle with focus.  What I LOVE since taking this is ...|[positive]|\n",
            "| positive|     5|I bought this to help regulate my homones and mood. I've lost 70 pounds but my stomach doesn't wa...|[positive]|\n",
            "| positive|     5|I am dealing with age-related cognition problems, and have been diagnosed with Guillain-Barre' Sy...|[positive]|\n",
            "| positive|     5|As a 63 year old woman I was beginning to have some memory problems and foggy brain. I did some r...|[positive]|\n",
            "| positive|     5|I started this because  I needed serious  help with stress in my life.  My work is a stressful  s...|[positive]|\n",
            "| negative|     3|This helps with memory and clears brain fog like you wouldn't believe!! My recall is sharp!!! I w...|[positive]|\n",
            "| positive|     5|I have really appreciated the Phopshatidyl Serine I have been getting from Doublewood.  Firstly, ...|[positive]|\n",
            "| negative|     1|I tried this capsule form because it's Amazon's Choice plus it's a good price. However, after usi...|[negative]|\n",
            "| positive|     5|I work in a very high stress, high demand job and I can only imagine what my cortisol spikes must...|[positive]|\n",
            "| positive|     5|This is the best supplement!  I had been struggling to sleep through the night and was waking up ...|[positive]|\n",
            "| positive|     5|I've used other brands of Phosphatidyl Sterine and I like this best. It's made in the USA and tha...|[positive]|\n",
            "| positive|     5|Update 619-2021: my stroke is changing up on me along with receiving myofascial rehabilitation. I...|[positive]|\n",
            "| positive|     5|I read an article about a molecular biologist studying remote tribes with unusual diets. One trib...|[negative]|\n",
            "| positive|     5|I've been using this product for several weeks now, and I'm happy with the results. There is a fe...|[positive]|\n",
            "| positive|     5|I’m 40 and a non traditional student and I feel like I couldn’t keep my thoughts straight and was...|[positive]|\n",
            "| positive|     4|I bought this product because it claimed it did many things. I was hoping it would help me sleep ...|[positive]|\n",
            "| positive|     5|Double Wood Supplements never fails with their Nootropics! Product does exactly what it claims an...|[positive]|\n",
            "| positive|     5|Brain fog is fading, feeling much more alert, I have been taking this for 3 weeks now and feel mu...|[positive]|\n",
            "| negative|     1|                                  Capsule is sooo tiny could not possibly contain 300 mg as claimed.|[negative]|\n",
            "| positive|     4|It’s definitely helped me combat brain fog. Especially when I take it after I’ve consumed a prote...|[positive]|\n",
            "| negative|     1|Advertised as 300mg capsules but inside is consistently less than 200 mg. Im sure the product is ...|[negative]|\n",
            "| positive|     5|I take this in addition to DIM and I’ve finally been able to shed weight within the first month o...|[positive]|\n",
            "| positive|     5|My Dr. recommended this after a concussion to help the nerves in the brain communicate better - I...|[positive]|\n",
            "| positive|     5|I am still in the early stages, but I think it really boosts focus and blocks distractions big time.|[negative]|\n",
            "| positive|     5|I've been taking it for about 2 years, appears to help me stay focused and slight improvement wit...|[positive]|\n",
            "| positive|     5|I take this as part of a regiment to manage my symptoms of fibromyalgia. It was recommended by my...|[positive]|\n",
            "| negative|     1|The recent bottle I bought has a horrible strong smell. It also gave me a terrible stomachache an...|[negative]|\n",
            "| positive|     5|I was diagnosed with ADHD about 25 years ago when my children were young teenagers (and had been ...|[positive]|\n",
            "| positive|     5|I was looking for a PS supplement because I had read that it helps curb cortisol, which I suspect...|[positive]|\n",
            "| positive|     5|I've been having my kids take PhosphatidylSerine for 4 years now. One of our sons is asynchronous...|[positive]|\n",
            "| positive|     5|Really great. I only use this brand. No side effects. It helped me stop taking stronger sleep med...|[positive]|\n",
            "| positive|     5|Most all of my supplement regimen comes from Double Wood.  Their capsules don’t get stuck in the ...|[positive]|\n",
            "| positive|     5|I always had a hard time concentrating. I tried various medications both OTC and prescription. Bu...|[negative]|\n",
            "| positive|     5|I began using this product for sleep and  to help improve my memory.  I shopped around for Phosph...|[positive]|\n",
            "| positive|     5|I have finished 3 bottles already for mitochondria health. I take in the morning with green juice...|[positive]|\n",
            "| positive|     5|My experience has been great so far. I take two of the capsules in the morning with lecithin to g...|[positive]|\n",
            "| positive|     5|I've been taking the same brand of PhosSerine for years, starting from when there were only a few...|[positive]|\n",
            "| positive|     4|I bought this product to enhance memory function, and I haven't taken it long enough to know how ...|[positive]|\n",
            "| positive|     4|I’m 66. I was in a bad car accident, 4 years ago. The accident caused a stroke. I was very concer...|[positive]|\n",
            "| positive|     5|Since taking Phosphatidyl Serine, I have been able to stay awake throughout the day. I am taking ...|[positive]|\n",
            "| positive|     5|I am 44 and I have 2 teenagers. Since I started taking this my mind is so much sharper. I can rem...|[positive]|\n",
            "| positive|     5|As my heading states, this is no miracle drug. I believe expectations when taking supplements sho...|[positive]|\n",
            "| positive|     4|I ordered this product for my mother who was erroneously told by a doctor several years ago that ...|[positive]|\n",
            "| negative|     1|I’ve previously taken GNC’s PS and it worked great. I tried this one because of the reviews and i...|[negative]|\n",
            "| positive|     5|I started taking this at night to help with my cortisol levels. It took about a week or so, but I...|[positive]|\n",
            "| positive|     5|                                                                        Could I be imagining things?|[negative]|\n",
            "| positive|     5|I started using this product because my grandmother had Alzheimer’s Disease, and I wanted to do e...|[positive]|\n",
            "| positive|     5|This supplement has provided better results than many others I’ve tried in the past, the list is ...|[positive]|\n",
            "| positive|     5|I’ve been using this product for several months and have repurchased.  I’m happy with the result ...|[positive]|\n",
            "| positive|     5|After menopause, I noticed a decline in memory, focus and concentration. I read that phosphatidyl...|[positive]|\n",
            "| positive|     5|I’m actually kind of shocked at the difference I feel. I started taking it for improved brain fun...|[positive]|\n",
            "| positive|     5|This supplement was something I started taking for brain fog and stress hormone regulation. I was...|[positive]|\n",
            "| positive|     5|My mom's family doctor recommended Phosphatidylserine supplements instead of jumping into Rx medi...|[positive]|\n",
            "| positive|     5|My doctor recommend that I take phosphatidyl serine.  I took my time researching various options ...|[positive]|\n",
            "| positive|     5|I was suffering from awful fatigue and my doctor suggested that things might be occurring on a mi...|[positive]|\n",
            "| positive|     5|There are studies that claim Phosphatidylserine helps promote layers of fat (myelination) around ...|[positive]|\n",
            "| positive|     5|I recently had to stop taking supplements for 4 weeks because of surgery.  I could tell a differe...|[positive]|\n",
            "| positive|     5|This was recommended for both sleep improvement and as an overall neuroprotective supplement. Thr...|[positive]|\n",
            "| positive|     5|I hit a tree 3 years ago, at 65 mph. Besides breaking every bone in my body I also sustained a Tr...|[positive]|\n",
            "| positive|     5|Several months ago I asked my Wellness Doctor what I could do to speed up my mental processing ab...|[positive]|\n",
            "| positive|     5|I actually tried this supplement when I was looking for things to help me with my ADD trying to s...|[positive]|\n",
            "| positive|     4|I take these in conjunction with Ginko Biloba and they make a huge difference for me cognitively....|[positive]|\n",
            "| positive|     5|                                                                           ---NOT MEDICAL ADVICE----|[negative]|\n",
            "| positive|     5|I have been using this product my doctor recommended for about 1 year.  My thinking seems to be m...|[positive]|\n",
            "| positive|     5|I buy this product for my 79 year young wife of 54 years. She has Alzheimer’s Disease. I give thi...|[positive]|\n",
            "| positive|     5|I've tried different brands for phosphatidylserine and this one seems to be synthesized as oppose...|[positive]|\n",
            "| positive|     4|When I started taking this, I began having more vivid dreams.  I do feel like it improved sleep q...|[positive]|\n",
            "| positive|     5|I was using a different one before that also was soy derived but stopped being produced, (GNC) an...|[positive]|\n",
            "| positive|     5|I have been using this product for about a month now, and can definitely say my memory recall and...|[positive]|\n",
            "| positive|     5|I have come to rely on this product to calm my thought process and quiet the ambient \"noise\" in m...|[negative]|\n",
            "| positive|     4|My brother recommended this med to me. He works in cramped areas daily and said this helped relie...|[positive]|\n",
            "| positive|     4|I was introduced to this product by my GP. He had private labeled it and marked up the price cons...|[positive]|\n",
            "| positive|     5|Probably the best PS I have used. I've tried about 12 others and this is #1 in my top 3. I can te...|[negative]|\n",
            "| positive|     5|First let me do a disclaimer. I am heavy caffeine user and typically cannot feel any sort of fads...|[negative]|\n",
            "| positive|     5|My son suffers from Lyme disease and this is one supplement he does not want to be without.  He i...|[positive]|\n",
            "| negative|     1|Tried the low cost and this brand. After months I have decided that if I cannot perceive ANY chan...|[negative]|\n",
            "| positive|     4|This stuff is better than sertraline; and if you combine Phosphatidyl Serine with Ashwagandha roo...|[positive]|\n",
            "| positive|     5|PS has been a staple of my cognition stack for years and I've found it to double as a calming age...|[positive]|\n",
            "| positive|     5|This product was suggested for my son by his pediatric neurologist.  It has helped his anxiety an...|[positive]|\n",
            "| positive|     5|my memory recall has improved greatly since taking this. over time this improvement has increased...|[positive]|\n",
            "| positive|     5|This product is a miracle for anxiety; used just 1 per day as needed for symptoms. Allowed total ...|[positive]|\n",
            "| positive|     5|I have been taking Phosphatidyl Serine for many years per my doctor’s recommendation to dump exce...|[positive]|\n",
            "| positive|     5|I take this because there is a high tendency for Alzheimer in my family history.  Read where this...|[positive]|\n",
            "| positive|     5|I've been on adderall for years and for health reasons Dr wanted me to quit.  Well I'm so blessed...|[positive]|\n",
            "| positive|     5|This product helps with focus, eliminates brain fog, and helps me organize my thoughts. In meetin...|[positive]|\n",
            "| positive|     5|PS makes part of membrans cells: neurons but also muscles cells. It plays a huge role in a health...|[positive]|\n",
            "| negative|     1|kind of seems like a bunk supplement, there aren't very many studies about it and all the studies...|[negative]|\n",
            "| positive|     5|I have been using these for almost a full month now and I really could see a difference with memo...|[positive]|\n",
            "| positive|     5|I suffered a Traumatic Brain Injury a couple of years ago and I've had memory issues since. My Ne...|[positive]|\n",
            "| positive|     5|300-600 mg before bed seems to significantly improve my sleep quality. I use this at the end of p...|[positive]|\n",
            "| positive|     5|This is a high quality, very reasonably priced, must have supplement for daily use and long-term ...|[positive]|\n",
            "| positive|     5|After retiring from a very stressful job, I had put on extra weight and had tried various diets a...|[positive]|\n",
            "| positive|     5|My Functional Medicine doctor prescribed this for me because testing showed that my cortisol leve...|[negative]|\n",
            "| positive|     5|I take this product along with their Huperzine A for memory enhancement and the results have been...|[positive]|\n",
            "| positive|     5|Wonderful! This product has helped me sleep through the night.  I was waking prior to taking ever...|[positive]|\n",
            "| negative|     1|This product was recommended by a nutritionist for better sleep, but I stopped using after I read...|[negative]|\n",
            "| positive|     5|Recommended by two other family members that needed energy and focus for the work week! I purchas...|[positive]|\n",
            "| positive|     5|It's been great for mood and mental clarity. No side effects. Started taking it in accordance wit...|[negative]|\n",
            "| positive|     5|This is to confirm my experience with the product Phosphatidyl Seriine which was recommended by m...|[positive]|\n",
            "| positive|     5|I have used double wood supplements on several occasions.  The company is very conscientious and ...|[positive]|\n",
            "| negative|     3| These caps are a good size, easy to swallow. Got these for my wife who has alzheimer's, but has not|[positive]|\n",
            "| positive|     5|Last year when I was studying for the bar exam, I began taking these supplements. Almost the day ...|[positive]|\n",
            "| positive|     5|I really like this product because when I'm using it I feel like I am mentally sharper and my mem...|[positive]|\n",
            "| positive|     5|I'm liking so far the results I'm seeing with my memory. Not that it was terrible but when I woul...|[negative]|\n",
            "| positive|     5|I have been taking this for years but from another supplier.  I have taken it from this supplier ...|[positive]|\n",
            "| positive|     5|Haven’t noticed a difference in sleep, but it REALLY has helped with memory recall! I just creste...|[positive]|\n",
            "| positive|     5|I had been rated with memory loss, which is irreplaceable.  However, another terrible incident ha...|[negative]|\n",
            "| positive|     5|I take a number of supplements, which I've selected based on the literature rather than my own as...|[positive]|\n",
            "| positive|     5|I've been taking this product for over a year and it has been extremely helpful!  I work in a str...|[positive]|\n",
            "| positive|     4|I've been forgetting words I KNOW I know...if you know what I mean.  In addition to forgetting wh...|[negative]|\n",
            "| positive|     5|I feel a little less frustrated looking for words.  I have more focus, it seems.  I have been tak...|[positive]|\n",
            "| positive|     5|      My husband swears by this product for mental clarity - we keep it in our cabinets at all times|[positive]|\n",
            "| positive|     5|Loved the product. I had been having problems sleeping after 3 pm and this product is really help...|[positive]|\n",
            "| positive|     5|A friend's doctor recommended he try this to improve his focus and he swears by it. So, I decided...|[positive]|\n",
            "| positive|     5|PhosphatidylSerine has been shown to aid memory in various research studies. This particular prod...|[negative]|\n",
            "| positive|     5|I began using Phosphotidyl Serine a few months ago at the recommendation of my nutritionist, who ...|[positive]|\n",
            "| positive|     4|I find it best to take this in the middle of the night or early in the morning before the body st...|[positive]|\n",
            "| positive|     5|This is a trusted product.  Combining magnesium and this brand of  Phosphatidyl Serine, I have in...|[positive]|\n",
            "| positive|     5|                                    Ordered this supplement for my father who was getting forgetful.|[negative]|\n",
            "| positive|     5|I started taking this several years ago.  I originally purchased this to give to my mother for he...|[positive]|\n",
            "| positive|     5|               I have read that this product is beneficial  in helping a \"senior brain\" retain more.|[positive]|\n",
            "| positive|     5|I had been having heart palpitations throughout the day for months with no explanation. Also had ...|[negative]|\n",
            "| positive|     5|I absolutely recommend taking this supplement daily. PhosphatidylSerine helps me focus and along ...|[positive]|\n",
            "| positive|     5|I had forgotten to bring my supplements on a month long trip. Started noticing difficulty recalli...|[positive]|\n",
            "| positive|     5|I really like this company's products. I find them to be good quality and easy to tolerate [no si...|[positive]|\n",
            "| positive|     5|This product works great for me and helps me sleep. As per doctor recommendation,  I take 3 pills...|[positive]|\n",
            "| positive|     5|I have been using this product along with the pregnenolone from double Wood Supplements.  I have ...|[positive]|\n",
            "| positive|     5|This product seems to help me fall asleep quicker, and feels like I have deeper sleep.  I feel mo...|[positive]|\n",
            "| positive|     5|    After taking a few weeks, my brain fog was definitly better, and quality of sleep much improved!|[positive]|\n",
            "| positive|     5|I took this product in conjunction with a ketogenic diet. Both improved my mood and energy, espec...|[positive]|\n",
            "| positive|     5|I've been taking this for months and it works for me.  Helps eliminate brain fog and my recall is...|[positive]|\n",
            "| positive|     5|I've been taking Phosphatidylserine for over 5 years now and it's been helpful overall with maint...|[positive]|\n",
            "| positive|     5|I am happy with this product. I got it to help my old dog that has dementia. He has seemed to sta...|[positive]|\n",
            "| positive|     5|I take this product along with Melatonin and 5 HTTP. I have trouble sleeping obviously and this p...|[positive]|\n",
            "| positive|     5|My alternative care doctor suggested that l take Phosphatidyl Serine after l expressed my concern...|[positive]|\n",
            "| positive|     5|I have been using Phosphatidyl Serine off and on for the last 25 years and using your product for...|[positive]|\n",
            "| positive|     5|Memory and focus stronger and no problems sleeping. College student son reports less mental fatig...|[positive]|\n",
            "| positive|     5|I have been using Phosphatidylserine from Double Wood and find it to be great quality at a great ...|[positive]|\n",
            "| positive|     5|It was recommended to me to use phosphatidyl serine for my adrenal issues. Once I figured out my ...|[positive]|\n",
            "| positive|     5|                           Product does work. I saw less inflammation. But it lowered my bp too low.|[negative]|\n",
            "| positive|     4|I  thought I noticed an improvement in sleep and thinking, but I was inconsistent in taking it be...|[negative]|\n",
            "| positive|     5|I've been a proponent of PhosphatidylSerine for about 10 years. This one is quality at a fair pri...|[positive]|\n",
            "| positive|     5|I give this to my son and take it myself to help with processing and memory. I realized how much ...|[positive]|\n",
            "| positive|     5|Noticed a big difference almost right away! Getting this for my mom. Glad its affordable. Wish th...|[positive]|\n",
            "| positive|     5|                                                                                       Female 56 yo.|[negative]|\n",
            "| positive|     5|Double Woods Phosphatiydl Serine is an excellent product. I could tell the results within a short...|[positive]|\n",
            "| positive|     5|Bothmy wife & I have been taking this supplement for several months and it really helps with brai...|[positive]|\n",
            "| positive|     5|I had good clarity and improved focus while taking this product. Especially as a father of 3 boys...|[positive]|\n",
            "| positive|     5|My Dr. recommended  this product for anxiety and cortisol control.  Very effective and reasonably...|[positive]|\n",
            "| positive|     5|I have used this PhosphatidylSerine and have felt good!  I have noticed my word finding ability h...|[positive]|\n",
            "| positive|     5|This is the only phosphaditylserine brand I've found that has any effect on my acute brain inflam...|[positive]|\n",
            "| positive|     5|Has helped my memory tremendously.  Didnlt think so until I quit taking it and regressed.  I've t...|[positive]|\n",
            "| positive|     5|The minute I wake up my cortisol levels shoot through the roof and stay there all day long. I tak...|[positive]|\n",
            "| positive|     5|I like the small size of the capsules.  150 mg is a minuscule amount volume-wise, so a larger cap...|[negative]|\n",
            "| positive|     5|                                                                                     ENHANCES MEMORY|[positive]|\n",
            "| positive|     5|I notice an increase in my ability to concentrate over longer periods of time, with less tirednes...|[positive]|\n",
            "| positive|     5|Purchased upon a friend recommendation. After a few days noticed an increase in focus, slightly d...|[positive]|\n",
            "| positive|     4|                                                            No provoca ningún otro efecto secundario|[negative]|\n",
            "| positive|     5|This is the best quality for any price point I have found.  I use this to decrease awakening in t...|[positive]|\n",
            "| positive|     5|I decided to purchase this for my Mom who has a mild cognitive impairment (MCI).  Before I gave t...|[positive]|\n",
            "| positive|     5|This product has made a huge difference in my life. I am sleeping better. I’m able to handle stre...|[positive]|\n",
            "| positive|     5|My neurologist recommended Phosphatidyl Serine for my memory. I have been on it a year now.  My b...|[positive]|\n",
            "| positive|     4|     Good price for the active ingredient in presure vision, but little evidence to support efficacy|[positive]|\n",
            "| positive|     5|I’m taking this to control cortisol because my stress level is so high. After one week, there is ...|[negative]|\n",
            "| positive|     5|This is very good quality for the price! I have noticed a slight change in my memory recall and t...|[positive]|\n",
            "| negative|     1|                       Didn’t do what I hoped it might . No effect at all... sadly i can’t return it|[negative]|\n",
            "| positive|     5|I am about to order my 3rd bottle. I notice a difference if I miss a couple of days. I am forgett...|[positive]|\n",
            "| positive|     5|I just finished my first bottle of Phosphatidyl Serine. It really helps keep my cortisol levels b...|[positive]|\n",
            "| positive|     5|I had some fairly major surgery last year and it felt like my brain never really switched back on...|[positive]|\n",
            "| positive|     5|I bought this in combination with 5 other supplements for Rick Gibson’s Healthy Sleep Formula. Th...|[positive]|\n",
            "| positive|     5|I take this product to overall improve mental clarity (have brain fog from lyme coinfections) and...|[positive]|\n",
            "| positive|     5|I started taking PhosphatidylSerine to improve memory and concentration.  It seems to help me fin...|[positive]|\n",
            "| positive|     5|works better then a shower and a cup of coffee to get you up and moving in the morning.  No jitte...|[positive]|\n",
            "| positive|     5|I started taking this for cortisol balance after my saliva cortisol tests showed 3/4 high reading...|[positive]|\n",
            "| positive|     5|This is an excellent product at a good price.  My naturopath recommended it for memory, concentra...|[positive]|\n",
            "| positive|     5|This product is fantastic. Not only did my cognitive abilities seem to improve, my sleep did as w...|[positive]|\n",
            "| positive|     5|This product really calms me down at night and helps me get to sleep. It calms an over active min...|[positive]|\n",
            "| negative|     1|Tried PhosphatidylSerine 300mg Per Serving, used entire bottle, and noticed no effect on memory o...|[negative]|\n",
            "| positive|     5|My therapist recommended this as a supplement for help cognitive function as I progress through m...|[positive]|\n",
            "| positive|     5|                        I think this product is good.  I noticed greater clarity and will use again.|[positive]|\n",
            "| positive|     5|When taken at night this gave me very vivid dreams and I could remember them much easier than nor...|[positive]|\n",
            "| negative|     1|                                                                            upset my system not good|[negative]|\n",
            "| positive|     5|                                        Great supplement for maintaining focus throughout a busy day|[positive]|\n",
            "| positive|     5|These seem to be working amazingly well. My memory has been going downhill for a few years now, b...|[positive]|\n",
            "| positive|     5|I think it's a excellent product. It keeps me mentally sharp. I'm a critical care RN and I need a...|[positive]|\n",
            "| positive|     5|I love this product.  I believe it helped improve my sleep and my stress levels, when taken just ...|[positive]|\n",
            "| positive|     4|This supplement has helped me lower my high cortisol at night.  I've been struggling with sleep f...|[positive]|\n",
            "| negative|     2|Not really satisfied with this product.  Im not sure what % of PS your actually getting in this p...|[negative]|\n",
            "| positive|     5|I take this product daily to slow the aging memory process, and it's helping. I find I'm not as f...|[positive]|\n",
            "| negative|     1|                                                                           No difference didn't work|[negative]|\n",
            "| positive|     5|This company is doing big things. High quality products and a low price is something you dont com...|[positive]|\n",
            "| positive|     5|I really am impressed with this supplement.  I am a 55-year-old college student, and I was strugg...|[positive]|\n",
            "| positive|     5|I’ve used Double Woods Supplements before and they are always great quality. I purchased their pr...|[positive]|\n",
            "| negative|     3|I started taking this twice/day for a couple months to see if it would help with hormonal acne. T...|[negative]|\n",
            "| positive|     5|I am so grateful I found this supplement.  It has helped me tremendously!  My aunt, who is an ora...|[positive]|\n",
            "| positive|     4|I have been taking 400 to 500 mg of Phosphatidyl Serine daily for over 10 years. During that time...|[negative]|\n",
            "| positive|     4|I am 60 y/o, decided to try the product after researching natural alternatives for mental alertne...|[positive]|\n",
            "| positive|     5|I love this product. I take one when I wake up and one before bed. It helps me stay focused, aler...|[positive]|\n",
            "| positive|     4|No clue if works yet! First week trial. Will keep you updated. Need for testing (nuclear medicine...|[positive]|\n",
            "| positive|     5|I bought this to help my husband's cognition and memory.  I am noticing some improvement.  I am t...|[positive]|\n",
            "| negative|     3|Memory!  Aging process, not sure if it is working or not, but don't think it would hurt.  Made in...|[negative]|\n",
            "| positive|     5|This supplement really seems to make a difference.I am able to remember and recollect things I re...|[positive]|\n",
            "| positive|     4|Purchased this product for my wife who was experiencing self-described cognitive difficulties.  S...|[negative]|\n",
            "| positive|     5|                                               As described. Wouldn’t be without it for brain health|[positive]|\n",
            "| positive|     4|I have used Phosphatidylserine for several years from a variety of brands. I was at first drawn t...|[positive]|\n",
            "| positive|     5|I work in an environment that can be mentally challenging.  I must be able to research technical ...|[positive]|\n",
            "| positive|     5|Recommended to use for memory retention during the aging process. Seems to help as many of our fr...|[positive]|\n",
            "| positive|     5|I have taken the main ingredient in this product for years now as a memory aid and this particula...|[positive]|\n",
            "| positive|     5|Helps me sleep when I otherwise can't.  Has helped me better regulate my cortisol levels. Highly ...|[positive]|\n",
            "| positive|     5|I started using this product at the suggestion of my doctor to help with my sleep and cortisol is...|[positive]|\n",
            "| positive|     5|    I was told by a naturopath to take this product before bedtime.  This is a very good PS product.|[positive]|\n",
            "| positive|     5|I take this product daily and have noticed that my memory and stress level have improved greatly ...|[positive]|\n",
            "| positive|     5|Great product. Helps tremendously with sleep for me and seems to alleviate some of my anxiety as ...|[positive]|\n",
            "| positive|     5|I have been taking PS for about a year now to address elevated cortisol.  I have noticed when I t...|[positive]|\n",
            "| positive|     5|                                                  These work great for depression, will order again.|[positive]|\n",
            "| positive|     5|                                                               I have improved energy & better sleep|[positive]|\n",
            "| positive|     5|Using based on the ongoing research of of those who show it supports mental processing speed and ...|[positive]|\n",
            "| positive|     5|I've been taking this product for 3 months now in prep for a exam. I've found it to be helpful in...|[positive]|\n",
            "| positive|     5|I feel my mental focus and clarity much improved with the Double Wood brand of PS. I have used Va...|[positive]|\n",
            "| negative|     3|This was purchased for my elderly aunt. She feels it is of some help with her memory.  I do not s...|[positive]|\n",
            "| positive|     5|Excellent Product that I have added to My Daily Nutrient Intake. I have been using for 6 months o...|[positive]|\n",
            "| positive|     5|I have taken Prevagen for years, and always had great results from it. However, after trying the ...|[positive]|\n",
            "| positive|     5|Double Wood was among the first to sell PhosphatidylSerine on Amazon.  Like their other products,...|[positive]|\n",
            "| positive|     5|Love your products, I use two different products for my daughter with Autism and it seems to help...|[positive]|\n",
            "| positive|     5|                                                                                          The Goods:|[positive]|\n",
            "| positive|     4|                         Good product - use for cortisol management. Helpa with sleep and brain fog.|[positive]|\n",
            "| positive|     5|Read many years ago phosphaitdylSerine improves memory,  One friend swears by it.so now that I am...|[positive]|\n",
            "| positive|     5|Great deal if you can consume gelatin. Hopefully their success allows them to produce a higher en...|[positive]|\n",
            "| positive|     4|I was having issues and made an apt to speak to my dr about my adhd.....I read an article about t...|[positive]|\n",
            "| positive|     5|This works to help me stay focused, and keeps my mind sharp. I  even have my parents taking it as...|[positive]|\n",
            "| positive|     5|We love your PhosphatidylSerine . We can already see an improvement in our memories. Daily tasks ...|[positive]|\n",
            "| positive|     5|This product helps my brain \"shut off\" @ night. Deeper sleep allowing me to be calm & focused in ...|[positive]|\n",
            "| positive|     5|                                                  I can really tell the difference when I take this!|[positive]|\n",
            "+---------+------+----------------------------------------------------------------------------------------------------+----------+\n",
            "only showing top 300 rows\n",
            "\n"
          ],
          "name": "stdout"
        }
      ]
    },
    {
      "cell_type": "code",
      "metadata": {
        "id": "Ue_9xLL4BGVW"
      },
      "source": [
        "result_df = preds.select('sentiment', 'product', 'product_name', 'text', 'class.result').toPandas()"
      ],
      "execution_count": 44,
      "outputs": []
    },
    {
      "cell_type": "code",
      "metadata": {
        "id": "VgD45W9-wzln"
      },
      "source": [
        "result_df = result_df.drop(result_df[result_df[\"result\"].str.len() == 0].index)"
      ],
      "execution_count": 45,
      "outputs": []
    },
    {
      "cell_type": "code",
      "metadata": {
        "colab": {
          "base_uri": "https://localhost:8080/"
        },
        "id": "MLrqE1uW_Jot",
        "outputId": "405e1f0e-fe68-40d7-c56b-6e423cba50f3"
      },
      "source": [
        "result_df['result'] = result_df['result'].apply(lambda x: x[0])\n",
        "print(classification_report(result_df['sentiment'], result_df['result']))\n",
        "print(\"accuracy score: \", accuracy_score(result_df['sentiment'], result_df['result']))"
      ],
      "execution_count": 64,
      "outputs": [
        {
          "output_type": "stream",
          "text": [
            "              precision    recall  f1-score   support\n",
            "\n",
            "    negative       0.41      0.78      0.54      2316\n",
            "    positive       0.97      0.85      0.90     16942\n",
            "\n",
            "    accuracy                           0.84     19258\n",
            "   macro avg       0.69      0.82      0.72     19258\n",
            "weighted avg       0.90      0.84      0.86     19258\n",
            "\n",
            "accuracy score:  0.8406895835496936\n"
          ],
          "name": "stdout"
        }
      ]
    },
    {
      "cell_type": "code",
      "metadata": {
        "colab": {
          "base_uri": "https://localhost:8080/"
        },
        "id": "uEnnuFZY3e-1",
        "outputId": "faf2dc63-39f9-46dd-d77d-2110b6ce047f"
      },
      "source": [
        "print(confusion_matrix(result_df['sentiment'], result_df['result']))"
      ],
      "execution_count": 28,
      "outputs": [
        {
          "output_type": "stream",
          "text": [
            "[[ 1818   498]\n",
            " [ 2570 14372]]\n"
          ],
          "name": "stdout"
        }
      ]
    },
    {
      "cell_type": "markdown",
      "metadata": {
        "id": "ThKW4i-250nA"
      },
      "source": [
        "###Organizing result data"
      ]
    },
    {
      "cell_type": "code",
      "metadata": {
        "colab": {
          "base_uri": "https://localhost:8080/",
          "height": 454
        },
        "id": "4yyjP-vi59Yc",
        "outputId": "dfcba22d-6cdb-4008-f5a7-458d90ea9284"
      },
      "source": [
        "result_df.set_index('product')"
      ],
      "execution_count": 70,
      "outputs": [
        {
          "output_type": "execute_result",
          "data": {
            "text/html": [
              "<div>\n",
              "<style scoped>\n",
              "    .dataframe tbody tr th:only-of-type {\n",
              "        vertical-align: middle;\n",
              "    }\n",
              "\n",
              "    .dataframe tbody tr th {\n",
              "        vertical-align: top;\n",
              "    }\n",
              "\n",
              "    .dataframe thead th {\n",
              "        text-align: right;\n",
              "    }\n",
              "</style>\n",
              "<table border=\"1\" class=\"dataframe\">\n",
              "  <thead>\n",
              "    <tr style=\"text-align: right;\">\n",
              "      <th></th>\n",
              "      <th>sentiment</th>\n",
              "      <th>product_name</th>\n",
              "      <th>text</th>\n",
              "      <th>result</th>\n",
              "    </tr>\n",
              "    <tr>\n",
              "      <th>product</th>\n",
              "      <th></th>\n",
              "      <th></th>\n",
              "      <th></th>\n",
              "      <th></th>\n",
              "    </tr>\n",
              "  </thead>\n",
              "  <tbody>\n",
              "    <tr>\n",
              "      <th>B079YF1K1B</th>\n",
              "      <td>negative</td>\n",
              "      <td>PhosphatidylSerine 300mg Per Serving, Made in ...</td>\n",
              "      <td>I work for NOW Foods and bought three differen...</td>\n",
              "      <td>positive</td>\n",
              "    </tr>\n",
              "    <tr>\n",
              "      <th>B079YF1K1B</th>\n",
              "      <td>positive</td>\n",
              "      <td>PhosphatidylSerine 300mg Per Serving, Made in ...</td>\n",
              "      <td>You can't beat $19.95 for PS with 120 caps! Ye...</td>\n",
              "      <td>negative</td>\n",
              "    </tr>\n",
              "    <tr>\n",
              "      <th>B079YF1K1B</th>\n",
              "      <td>positive</td>\n",
              "      <td>PhosphatidylSerine 300mg Per Serving, Made in ...</td>\n",
              "      <td>I was waking up at 4:00 a.m each morning due t...</td>\n",
              "      <td>positive</td>\n",
              "    </tr>\n",
              "    <tr>\n",
              "      <th>B079YF1K1B</th>\n",
              "      <td>positive</td>\n",
              "      <td>PhosphatidylSerine 300mg Per Serving, Made in ...</td>\n",
              "      <td>I'm 47 I have been in flight and survive mode ...</td>\n",
              "      <td>positive</td>\n",
              "    </tr>\n",
              "    <tr>\n",
              "      <th>B079YF1K1B</th>\n",
              "      <td>positive</td>\n",
              "      <td>PhosphatidylSerine 300mg Per Serving, Made in ...</td>\n",
              "      <td>I've been taking phosphatidylserine for a whil...</td>\n",
              "      <td>positive</td>\n",
              "    </tr>\n",
              "    <tr>\n",
              "      <th>...</th>\n",
              "      <td>...</td>\n",
              "      <td>...</td>\n",
              "      <td>...</td>\n",
              "      <td>...</td>\n",
              "    </tr>\n",
              "    <tr>\n",
              "      <th>B0183BYQW0</th>\n",
              "      <td>negative</td>\n",
              "      <td>BoostCeuticals Nattokinase 100 200 mg Vegan No...</td>\n",
              "      <td>Price and shipping was great but I  Quality to...</td>\n",
              "      <td>negative</td>\n",
              "    </tr>\n",
              "    <tr>\n",
              "      <th>B0183BYQW0</th>\n",
              "      <td>positive</td>\n",
              "      <td>BoostCeuticals Nattokinase 100 200 mg Vegan No...</td>\n",
              "      <td>very beneficial</td>\n",
              "      <td>positive</td>\n",
              "    </tr>\n",
              "    <tr>\n",
              "      <th>B0183BYQW0</th>\n",
              "      <td>positive</td>\n",
              "      <td>BoostCeuticals Nattokinase 100 200 mg Vegan No...</td>\n",
              "      <td>great product</td>\n",
              "      <td>positive</td>\n",
              "    </tr>\n",
              "    <tr>\n",
              "      <th>B0183BYQW0</th>\n",
              "      <td>negative</td>\n",
              "      <td>BoostCeuticals Nattokinase 100 200 mg Vegan No...</td>\n",
              "      <td>Too soon to review. I have increased the dosag...</td>\n",
              "      <td>negative</td>\n",
              "    </tr>\n",
              "    <tr>\n",
              "      <th>B0183BYQW0</th>\n",
              "      <td>positive</td>\n",
              "      <td>BoostCeuticals Nattokinase 100 200 mg Vegan No...</td>\n",
              "      <td>Does what I need it for.</td>\n",
              "      <td>positive</td>\n",
              "    </tr>\n",
              "  </tbody>\n",
              "</table>\n",
              "<p>19258 rows × 4 columns</p>\n",
              "</div>"
            ],
            "text/plain": [
              "           sentiment  ...    result\n",
              "product               ...          \n",
              "B079YF1K1B  negative  ...  positive\n",
              "B079YF1K1B  positive  ...  negative\n",
              "B079YF1K1B  positive  ...  positive\n",
              "B079YF1K1B  positive  ...  positive\n",
              "B079YF1K1B  positive  ...  positive\n",
              "...              ...  ...       ...\n",
              "B0183BYQW0  negative  ...  negative\n",
              "B0183BYQW0  positive  ...  positive\n",
              "B0183BYQW0  positive  ...  positive\n",
              "B0183BYQW0  negative  ...  negative\n",
              "B0183BYQW0  positive  ...  positive\n",
              "\n",
              "[19258 rows x 4 columns]"
            ]
          },
          "metadata": {
            "tags": []
          },
          "execution_count": 70
        }
      ]
    },
    {
      "cell_type": "code",
      "metadata": {
        "id": "ozeSF6Pr8yV3"
      },
      "source": [
        "results_df_prod = result_df.drop(columns={'sentiment'})"
      ],
      "execution_count": 71,
      "outputs": []
    },
    {
      "cell_type": "code",
      "metadata": {
        "id": "isyBQ7e_bkKz"
      },
      "source": [
        "results_df_prod = results_df_prod.drop_duplicates()"
      ],
      "execution_count": 72,
      "outputs": []
    },
    {
      "cell_type": "code",
      "metadata": {
        "id": "H4_RsHSjb56T"
      },
      "source": [
        "new_df = pd.DataFrame()\n",
        "new_df['product'] = results_df_prod['product'].unique()\n",
        "\n",
        "product_df = pd.DataFrame(columns=[\"product\", \"product name\" \"text\", \"total\", \"pos_count\"])\n",
        "product_df.set_index('product')\n",
        "\n",
        "for product in new_df['product']:\n",
        "  reviews = results_df_prod.loc[results_df_prod['product'] == product]\n",
        "  text = []\n",
        "  product_name = \"\"\n",
        "  pos_count = 0\n",
        "  total = 0 \n",
        "  for productn in reviews['product_name']:\n",
        "    product_name = productn\n",
        "  for review_text in reviews['text']:\n",
        "    text.append(review_text)\n",
        "  for res in reviews['result']:\n",
        "    total += 1\n",
        "    if res == \"positive\":\n",
        "      pos_count += 1\n",
        "  to_append = pd.DataFrame([[product, product_name, text, total, pos_count]], columns=[\"product\", \"product_name\", \"text\", \"total\", \"pos_count\"])\n",
        "  to_append.set_index('product')\n",
        "  product_df = product_df.append(to_append, ignore_index=True)"
      ],
      "execution_count": 73,
      "outputs": []
    },
    {
      "cell_type": "code",
      "metadata": {
        "id": "aW_iN1KMKWaG"
      },
      "source": [
        "product_df['%positive'] = (product_df['pos_count'] / product_df['total']) * 100 "
      ],
      "execution_count": 74,
      "outputs": []
    },
    {
      "cell_type": "code",
      "metadata": {
        "colab": {
          "base_uri": "https://localhost:8080/"
        },
        "id": "SALI8MtqWJm-",
        "outputId": "3ad64185-2f3c-4b65-d621-9523c97bcdac"
      },
      "source": [
        "final_df = product_df.sort_values('total', 0, ascending=False).head(10)"
      ],
      "execution_count": 75,
      "outputs": [
        {
          "output_type": "stream",
          "text": [
            "/usr/local/lib/python3.7/dist-packages/ipykernel_launcher.py:1: FutureWarning: In a future version of pandas all arguments of DataFrame.sort_values except for the argument 'by' will be keyword-only\n",
            "  \"\"\"Entry point for launching an IPython kernel.\n"
          ],
          "name": "stderr"
        }
      ]
    },
    {
      "cell_type": "code",
      "metadata": {
        "id": "Q2UIYfid6K1D"
      },
      "source": [
        "final_df = final_df.sort_values('%positive', ascending=False)"
      ],
      "execution_count": 102,
      "outputs": []
    },
    {
      "cell_type": "code",
      "metadata": {
        "colab": {
          "base_uri": "https://localhost:8080/",
          "height": 362
        },
        "id": "LJvvhb6eGRcn",
        "outputId": "e89810ec-f8dd-4de5-9a2e-ae3a704ef878"
      },
      "source": [
        "final_df"
      ],
      "execution_count": 103,
      "outputs": [
        {
          "output_type": "execute_result",
          "data": {
            "text/html": [
              "<div>\n",
              "<style scoped>\n",
              "    .dataframe tbody tr th:only-of-type {\n",
              "        vertical-align: middle;\n",
              "    }\n",
              "\n",
              "    .dataframe tbody tr th {\n",
              "        vertical-align: top;\n",
              "    }\n",
              "\n",
              "    .dataframe thead th {\n",
              "        text-align: right;\n",
              "    }\n",
              "</style>\n",
              "<table border=\"1\" class=\"dataframe\">\n",
              "  <thead>\n",
              "    <tr style=\"text-align: right;\">\n",
              "      <th></th>\n",
              "      <th>product</th>\n",
              "      <th>total</th>\n",
              "      <th>pos_count</th>\n",
              "      <th>product_name</th>\n",
              "      <th>text</th>\n",
              "      <th>%positive</th>\n",
              "    </tr>\n",
              "  </thead>\n",
              "  <tbody>\n",
              "    <tr>\n",
              "      <th>38</th>\n",
              "      <td>B07PFYH2PQ</td>\n",
              "      <td>350</td>\n",
              "      <td>295</td>\n",
              "      <td>Phosphatidylcholine 1,200mg – 210 Softgels – E...</td>\n",
              "      <td>[I believe Double Wood makes good quality supp...</td>\n",
              "      <td>84.285714</td>\n",
              "    </tr>\n",
              "    <tr>\n",
              "      <th>2</th>\n",
              "      <td>B08LF5G6J1</td>\n",
              "      <td>349</td>\n",
              "      <td>288</td>\n",
              "      <td>Ultra High Purity Phosphatidylserine from Ital...</td>\n",
              "      <td>[Partner and I are on our second bottle and we...</td>\n",
              "      <td>82.52149</td>\n",
              "    </tr>\n",
              "    <tr>\n",
              "      <th>30</th>\n",
              "      <td>B07WWB12VT</td>\n",
              "      <td>4863</td>\n",
              "      <td>3991</td>\n",
              "      <td>ONNIT Alpha Brain (180ct) - Premium Nootropic ...</td>\n",
              "      <td>[This product needs be thrown in the boxing ri...</td>\n",
              "      <td>82.068682</td>\n",
              "    </tr>\n",
              "    <tr>\n",
              "      <th>0</th>\n",
              "      <td>B079YF1K1B</td>\n",
              "      <td>1097</td>\n",
              "      <td>896</td>\n",
              "      <td>PhosphatidylSerine 300mg Per Serving, Made in ...</td>\n",
              "      <td>[I work for NOW Foods and bought three differe...</td>\n",
              "      <td>81.677302</td>\n",
              "    </tr>\n",
              "    <tr>\n",
              "      <th>45</th>\n",
              "      <td>B00S1XUS1Y</td>\n",
              "      <td>3222</td>\n",
              "      <td>2601</td>\n",
              "      <td>LES Labs Cortisol Health, Adrenal Support Supp...</td>\n",
              "      <td>[I have been to the cardiologist, PCP, and in ...</td>\n",
              "      <td>80.726257</td>\n",
              "    </tr>\n",
              "    <tr>\n",
              "      <th>51</th>\n",
              "      <td>B072JG37CY</td>\n",
              "      <td>611</td>\n",
              "      <td>473</td>\n",
              "      <td>Havasu Nutrition Ginkgo Biloba Non-GMO 120mg, ...</td>\n",
              "      <td>[I have tried many supplements over the years....</td>\n",
              "      <td>77.414075</td>\n",
              "    </tr>\n",
              "    <tr>\n",
              "      <th>60</th>\n",
              "      <td>B0739KKHWL</td>\n",
              "      <td>4061</td>\n",
              "      <td>2975</td>\n",
              "      <td>Nordic Naturals Ultimate Omega, Lemon Flavor -...</td>\n",
              "      <td>[I know it is a little more pricey but in our ...</td>\n",
              "      <td>73.257818</td>\n",
              "    </tr>\n",
              "    <tr>\n",
              "      <th>4</th>\n",
              "      <td>B0013OXA90</td>\n",
              "      <td>280</td>\n",
              "      <td>203</td>\n",
              "      <td>Jarrow Formulas PS 100-60 Softgels - 100 mg Ph...</td>\n",
              "      <td>[I'm so impressed with this supplement. It has...</td>\n",
              "      <td>72.5</td>\n",
              "    </tr>\n",
              "    <tr>\n",
              "      <th>23</th>\n",
              "      <td>B086CJD8L2</td>\n",
              "      <td>397</td>\n",
              "      <td>197</td>\n",
              "      <td>Neuriva Nootropic Brain Support Supplement - O...</td>\n",
              "      <td>[The product is fantastic IMO...within 2 weeks...</td>\n",
              "      <td>49.622166</td>\n",
              "    </tr>\n",
              "    <tr>\n",
              "      <th>44</th>\n",
              "      <td>B07Z6VFMM4</td>\n",
              "      <td>338</td>\n",
              "      <td>165</td>\n",
              "      <td>Neuriva Nootropic Brain Support Supplement - O...</td>\n",
              "      <td>[There are not enough vitiamns or minerals to ...</td>\n",
              "      <td>48.816568</td>\n",
              "    </tr>\n",
              "  </tbody>\n",
              "</table>\n",
              "</div>"
            ],
            "text/plain": [
              "       product  ...  %positive\n",
              "38  B07PFYH2PQ  ...  84.285714\n",
              "2   B08LF5G6J1  ...   82.52149\n",
              "30  B07WWB12VT  ...  82.068682\n",
              "0   B079YF1K1B  ...  81.677302\n",
              "45  B00S1XUS1Y  ...  80.726257\n",
              "51  B072JG37CY  ...  77.414075\n",
              "60  B0739KKHWL  ...  73.257818\n",
              "4   B0013OXA90  ...       72.5\n",
              "23  B086CJD8L2  ...  49.622166\n",
              "44  B07Z6VFMM4  ...  48.816568\n",
              "\n",
              "[10 rows x 6 columns]"
            ]
          },
          "metadata": {
            "tags": []
          },
          "execution_count": 103
        }
      ]
    },
    {
      "cell_type": "code",
      "metadata": {
        "id": "3dbgL82ebBfT"
      },
      "source": [
        "##Copying preprocessing functions used earlier in our project\n",
        "def preprocessString(text):\n",
        "    text = text.lower()\n",
        "\n",
        "    # Remove Urls\n",
        "    urls = re.compile(re.compile(r'(https?:\\/\\/[www\\.]?[-a-zA-Z0-9@:%._\\+~#=]{1,256}\\.[a-z]{2,6}\\b[-a-zA-Z0-9@:%_\\+.~#?&//=]*)'))\n",
        "    text = re.sub(urls, '', text)\n",
        "\n",
        "    # Remove Hashtags\n",
        "    hashtags = re.compile(r'\\B#\\w*[a-zA-Z]+\\w*')\n",
        "    text = re.sub(hashtags, '',text)\n",
        "\n",
        "    # Remove @ signs\n",
        "    atSigns = re.compile(r'\\B@\\w*[a-z0-9]+\\w*')\n",
        "    text = re.sub(atSigns, '', text)\n",
        "\n",
        "    # Remove Emojis\n",
        "    emojis = re.compile(r'[\\U00010000-\\U0010ffff]', flags=re.UNICODE)\n",
        "    text = re.sub(emojis, '', text)\n",
        "\n",
        "    # Remove Punctuations\n",
        "    punctuations = re.compile(r'\\W+')\n",
        "    text = re.sub(punctuations, ' ', text)\n",
        "    \n",
        "    # Remove Digits\n",
        "    text = re.sub(r'\\d+', '', text)\n",
        "\n",
        "    # Tokenize the text\n",
        "    token = nltk.word_tokenize(text)\n",
        "\n",
        "    # Remove stopwords\n",
        "    stopWords = set(nltk.corpus.stopwords.words('english'))\n",
        "    filteredToken = []\n",
        "    for t in token:\n",
        "      if t not in stopWords:\n",
        "        filteredToken.append(t)\n",
        "\n",
        "\n",
        "    # Lemmatize the review and return the list to preprocessList\n",
        "    lemmatize = [WordNetLemmatizer().lemmatize(x) for x in filteredToken]\n",
        "    lemmatize = [x for x in lemmatize if x not in['rt','http'] and len(x)>1]\n",
        "    return lemmatize"
      ],
      "execution_count": 104,
      "outputs": []
    },
    {
      "cell_type": "code",
      "metadata": {
        "id": "MAXt9Pf2hh8j"
      },
      "source": [
        "def preprocessList(lst):\n",
        "  processedList = []\n",
        "  if lst:\n",
        "    for i in range(len(lst)):\n",
        "      if lst[i]:\n",
        "        processedList.append(preprocessString(lst[i]))\n",
        "    if preprocessList:\n",
        "      return processedList\n",
        "    else:\n",
        "      return None"
      ],
      "execution_count": 105,
      "outputs": []
    },
    {
      "cell_type": "code",
      "metadata": {
        "id": "xmESey0Bkof5"
      },
      "source": [
        "#copied and modified code from the topic modling portion of our project\n",
        "#currently unused, use if topic modeling results is disired\n",
        "\n",
        "# def find_topics(lstlst):\n",
        "#   result = []\n",
        "#   lst = list(lstlst)\n",
        "#   arr_flat = []\n",
        "#   for e1 in lstlst:\n",
        "#       if e1:\n",
        "#         for e2 in e1:\n",
        "#           if e2:\n",
        "#             arr_flat.append(e2)\n",
        "#   dictionary = gensim.corpora.Dictionary([arr_flat])\n",
        "#   bow_corpus = [dictionary.doc2bow(doc) for doc in [arr_flat]]\n",
        "#   tfidf = models.TfidfModel(bow_corpus)\n",
        "#   corpus_tfidf = tfidf[bow_corpus]\n",
        "#   lda_model = gensim.models.LdaMulticore(bow_corpus, num_topics=2, id2word=dictionary, passes=2, workers=2)\n",
        "  #if num_topics > 1 use the following\n",
        "  # topic_words = []\n",
        "  # for topic in range(10):\n",
        "  #   topic_words.append(re.findall(r'[a-z]+', lda_model.show_topics()[0][1]))\n",
        "  # return topic_words\n",
        "  return re.findall(r'[a-z]+', lda_model.show_topics()[0][1])"
      ],
      "execution_count": 120,
      "outputs": []
    },
    {
      "cell_type": "code",
      "metadata": {
        "id": "gcIQUionPRPn"
      },
      "source": [
        "counter = collections.Counter()\n",
        "def most_common(lstlst):\n",
        "  result = []\n",
        "  lst = list(lstlst)\n",
        "  arr_flat = []\n",
        "  for e1 in lstlst:\n",
        "      if e1:\n",
        "        for e2 in e1:\n",
        "          if e2:\n",
        "            arr_flat.append(e2)\n",
        "  counter.update(arr_flat)\n",
        "  words = []\n",
        "  for w in counter.most_common(10):\n",
        "    words.append(w[0])\n",
        "  return words"
      ],
      "execution_count": 172,
      "outputs": []
    },
    {
      "cell_type": "code",
      "metadata": {
        "id": "GFCsd--ufKIB"
      },
      "source": [
        "top_prod_df = final_df.head(3)\n",
        "bottom_prod_df = final_df.tail(3)"
      ],
      "execution_count": 121,
      "outputs": []
    },
    {
      "cell_type": "code",
      "metadata": {
        "id": "utGqOLjvKrix"
      },
      "source": [
        "top_prod_df['product_name']"
      ],
      "execution_count": null,
      "outputs": []
    },
    {
      "cell_type": "code",
      "metadata": {
        "id": "_KBv8QschzN2"
      },
      "source": [
        "top_prod_df['processed_rev'] = top_prod_df['text'].apply(preprocessList)"
      ],
      "execution_count": null,
      "outputs": []
    },
    {
      "cell_type": "code",
      "metadata": {
        "id": "O4nATTsoP5fN"
      },
      "source": [
        "top_prod_df['common_words'] = top_prod_df['processed_rev'].apply(most_common)"
      ],
      "execution_count": null,
      "outputs": []
    },
    {
      "cell_type": "code",
      "metadata": {
        "id": "SG10pmgcQzRh"
      },
      "source": [
        "top_prod_df['common_words']"
      ],
      "execution_count": null,
      "outputs": []
    },
    {
      "cell_type": "code",
      "metadata": {
        "id": "SCDoTVi78TGo"
      },
      "source": [
        "top_prod_words = [word for word in top_prod_df['common_words']]"
      ],
      "execution_count": 182,
      "outputs": []
    },
    {
      "cell_type": "code",
      "metadata": {
        "id": "wDiYfSZq8eOO"
      },
      "source": [
        "top_prod_words"
      ],
      "execution_count": null,
      "outputs": []
    },
    {
      "cell_type": "code",
      "metadata": {
        "id": "Jke5EYq9Gxpf"
      },
      "source": [
        "top_prod_df.plot.barh('product_name', '%positive', fontsize=16)"
      ],
      "execution_count": null,
      "outputs": []
    },
    {
      "cell_type": "code",
      "metadata": {
        "id": "sQaFg7qc4CFg"
      },
      "source": [
        "bottom_prod_df['processed_rev'] = bottom_prod_df['text'].apply(preprocessList)"
      ],
      "execution_count": null,
      "outputs": []
    },
    {
      "cell_type": "code",
      "metadata": {
        "id": "jFL0K6AZSDXC"
      },
      "source": [
        "bottom_prod_df"
      ],
      "execution_count": null,
      "outputs": []
    },
    {
      "cell_type": "code",
      "metadata": {
        "id": "8-40i75X3Tim"
      },
      "source": [
        "bottom_prod_df['common_words'] = bottom_prod_df['processed_rev'].apply(most_common)"
      ],
      "execution_count": null,
      "outputs": []
    },
    {
      "cell_type": "code",
      "metadata": {
        "id": "-WjJSfTL3svi"
      },
      "source": [
        "bottom_prod_df"
      ],
      "execution_count": null,
      "outputs": []
    },
    {
      "cell_type": "code",
      "metadata": {
        "id": "8ox7Trg-7k6I"
      },
      "source": [
        "bottom_prod_words = [word for word in bottom_prod_df['common_words']]"
      ],
      "execution_count": 180,
      "outputs": []
    },
    {
      "cell_type": "code",
      "metadata": {
        "id": "cf5SHG5_8I28"
      },
      "source": [
        "bottom_prod_words"
      ],
      "execution_count": null,
      "outputs": []
    },
    {
      "cell_type": "code",
      "metadata": {
        "id": "bSbJt_6QHJG_"
      },
      "source": [
        "bottom_prod_df.plot.barh('product_name', '%positive')"
      ],
      "execution_count": null,
      "outputs": []
    }
  ]
}